{
 "cells": [
  {
   "cell_type": "markdown",
   "id": "7166d298-7def-47cb-b920-bfc9a3177e68",
   "metadata": {
    "jp-MarkdownHeadingCollapsed": true
   },
   "source": [
    "# 1. Libraries"
   ]
  },
  {
   "cell_type": "code",
   "execution_count": 62,
   "id": "42d8ea7e-33f1-47fc-9457-6ed2897a7afa",
   "metadata": {},
   "outputs": [],
   "source": [
    "import numpy as np\n",
    "import pandas as pd\n",
    "import os"
   ]
  },
  {
   "cell_type": "markdown",
   "id": "9b145fb6-1811-4e45-9324-81866c147445",
   "metadata": {
    "jp-MarkdownHeadingCollapsed": true
   },
   "source": [
    "# 2. Load data"
   ]
  },
  {
   "cell_type": "code",
   "execution_count": 3,
   "id": "cabc374e-383e-4fe6-84a9-d97d6785f9ad",
   "metadata": {},
   "outputs": [],
   "source": [
    "df_nivel = pd.read_csv('/home/nivelrios/documentos/Mburicao Project/data/raw/nivel.csv')\n",
    "df_sil = pd.read_csv('/home/nivelrios/documentos/Mburicao Project/data/raw/sil.csv')\n",
    "df_snd = pd.read_csv('/home/nivelrios/documentos/Mburicao Project/data/raw/snd.csv')\n",
    "df_aisp = pd.read_csv('/home/nivelrios/documentos/Mburicao Project/data/raw/aisp.csv')\n",
    "datasets = { \n",
    "            \"nivel\" : df_nivel,\n",
    "            \"sil\" : df_sil,\n",
    "            \"snd\" : df_snd,\n",
    "            \"aisp\" : df_aisp\n",
    "           }"
   ]
  },
  {
   "cell_type": "markdown",
   "id": "8f2ba890-18fa-4118-b0b1-c66a8650a9d4",
   "metadata": {
    "jp-MarkdownHeadingCollapsed": true
   },
   "source": [
    "# 3. Data info"
   ]
  },
  {
   "cell_type": "code",
   "execution_count": 4,
   "id": "02f1a78d-d78a-44f3-b245-bee9d2e2f526",
   "metadata": {},
   "outputs": [
    {
     "name": "stdout",
     "output_type": "stream",
     "text": [
      "\n",
      "========================================\n",
      "Información del dataset: nivel\n",
      "========================================\n",
      "\n",
      "<class 'pandas.core.frame.DataFrame'>\n",
      "RangeIndex: 69612 entries, 0 to 69611\n",
      "Data columns (total 2 columns):\n",
      " #   Column                           Non-Null Count  Dtype  \n",
      "---  ------                           --------------  -----  \n",
      " 0   Fecha                            69611 non-null  object \n",
      " 1   Nivel del agua  Arroyo Mburicao  69611 non-null  float64\n",
      "dtypes: float64(1), object(1)\n",
      "memory usage: 1.1+ MB\n",
      "\n",
      "========================================\n",
      "Información del dataset: sil\n",
      "========================================\n",
      "\n",
      "<class 'pandas.core.frame.DataFrame'>\n",
      "RangeIndex: 47816 entries, 0 to 47815\n",
      "Data columns (total 2 columns):\n",
      " #   Column                   Non-Null Count  Dtype  \n",
      "---  ------                   --------------  -----  \n",
      " 0   Fecha                    47816 non-null  object \n",
      " 1   Precipitacion_Sil_bahia  47816 non-null  float64\n",
      "dtypes: float64(1), object(1)\n",
      "memory usage: 747.2+ KB\n",
      "\n",
      "========================================\n",
      "Información del dataset: snd\n",
      "========================================\n",
      "\n",
      "<class 'pandas.core.frame.DataFrame'>\n",
      "RangeIndex: 376257 entries, 0 to 376256\n",
      "Data columns (total 2 columns):\n",
      " #   Column            Non-Null Count   Dtype  \n",
      "---  ------            --------------   -----  \n",
      " 0   Fecha y hora UTC  376257 non-null  object \n",
      " 1   Lluvia            376257 non-null  float64\n",
      "dtypes: float64(1), object(1)\n",
      "memory usage: 5.7+ MB\n",
      "\n",
      "========================================\n",
      "Información del dataset: aisp\n",
      "========================================\n",
      "\n",
      "<class 'pandas.core.frame.DataFrame'>\n",
      "RangeIndex: 316495 entries, 0 to 316494\n",
      "Data columns (total 2 columns):\n",
      " #   Column         Non-Null Count   Dtype  \n",
      "---  ------         --------------   -----  \n",
      " 0   Fecha y hora   316495 non-null  object \n",
      " 1   Precipitación  315944 non-null  float64\n",
      "dtypes: float64(1), object(1)\n",
      "memory usage: 4.8+ MB\n"
     ]
    }
   ],
   "source": [
    "for nombre, df in datasets.items():\n",
    "    print(f\"\\n{'='*40}\")\n",
    "    print(f\"Información del dataset: {nombre}\")\n",
    "    print(f\"{'='*40}\\n\")\n",
    "    df.info() "
   ]
  },
  {
   "cell_type": "markdown",
   "id": "8e6293c3-b914-4f8b-9816-c3e40787a895",
   "metadata": {
    "jp-MarkdownHeadingCollapsed": true
   },
   "source": [
    "# 4. Columns rename"
   ]
  },
  {
   "cell_type": "code",
   "execution_count": 5,
   "id": "565d69b3-666f-4a7d-bf1a-8b61cfe07e3a",
   "metadata": {},
   "outputs": [
    {
     "name": "stdout",
     "output_type": "stream",
     "text": [
      "Columnas de 'nivel' actualizadas:\n",
      "Index(['fecha', 'nivel'], dtype='object') \n",
      "\n",
      "Columnas de 'sil' actualizadas:\n",
      "Index(['fecha', 'sil'], dtype='object') \n",
      "\n",
      "Columnas de 'snd' actualizadas:\n",
      "Index(['fecha', 'snd'], dtype='object') \n",
      "\n",
      "Columnas de 'aisp' actualizadas:\n",
      "Index(['fecha', 'aisp'], dtype='object') \n",
      "\n"
     ]
    }
   ],
   "source": [
    "columnas = {\n",
    "            \"nivel\" : {\"Fecha\" : \"fecha\", \"Nivel del agua  Arroyo Mburicao\" : \"nivel\"},\n",
    "            \"sil\" : {\"Fecha\" : \"fecha\", \"Precipitacion_Sil_bahia\" : \"sil\"},\n",
    "            \"snd\" : {\"Fecha y hora UTC\" : \"fecha\", \"Lluvia\" : \"snd\"},\n",
    "            \"aisp\" : {\"Fecha y hora\" : \"fecha\", \"Precipitación\": \"aisp\"}\n",
    "            }\n",
    "for nombre, df in datasets.items():\n",
    "    renombre = columnas.get(nombre, {})  \n",
    "    datasets[nombre] = df.rename(columns=renombre)\n",
    "    print(f\"Columnas de '{nombre}' actualizadas:\")\n",
    "    print(datasets[nombre].columns, \"\\n\")"
   ]
  },
  {
   "cell_type": "markdown",
   "id": "f7ae933b-9cfb-4391-87f3-16b8a6548076",
   "metadata": {
    "jp-MarkdownHeadingCollapsed": true
   },
   "source": [
    "# 5. Data head"
   ]
  },
  {
   "cell_type": "code",
   "execution_count": 6,
   "id": "05502905-b314-4185-a617-abd7c3c192f7",
   "metadata": {},
   "outputs": [
    {
     "name": "stdout",
     "output_type": "stream",
     "text": [
      "\n",
      "========================================\n",
      "Encabezados del dataset: nivel\n",
      "========================================\n",
      "\n",
      "                     fecha     nivel\n",
      "0  2021-05-24 17:50:00.000  0.097351\n",
      "1  2021-05-24 18:00:00.000  0.082633\n",
      "2  2021-05-24 18:10:00.000  0.058515\n",
      "3  2021-05-24 18:20:00.000  0.128404\n",
      "4  2021-05-24 18:30:00.000  0.119611\n",
      "\n",
      "========================================\n",
      "Encabezados del dataset: sil\n",
      "========================================\n",
      "\n",
      "                       fecha  sil\n",
      "0  2021-06-12 12:00:00-04:00  0.0\n",
      "1  2021-06-12 12:10:00-04:00  0.0\n",
      "2  2021-06-12 12:20:00-04:00  0.0\n",
      "3  2021-06-12 12:30:00-04:00  0.0\n",
      "4  2021-06-12 12:40:00-04:00  0.0\n",
      "\n",
      "========================================\n",
      "Encabezados del dataset: snd\n",
      "========================================\n",
      "\n",
      "                 fecha  snd\n",
      "0  2015-05-06 17:05:00  0.0\n",
      "1  2015-05-06 17:10:00  0.0\n",
      "2  2015-05-06 17:15:00  0.0\n",
      "3  2015-05-06 17:20:00  0.0\n",
      "4  2015-05-06 17:25:00  0.0\n",
      "\n",
      "========================================\n",
      "Encabezados del dataset: aisp\n",
      "========================================\n",
      "\n",
      "                 fecha  aisp\n",
      "0  2015-01-01 00:00:00   0.0\n",
      "1  2015-01-01 00:10:00   0.0\n",
      "2  2015-01-01 00:20:00   0.0\n",
      "3  2015-01-01 00:30:00   0.0\n",
      "4  2015-01-01 00:40:00   0.0\n"
     ]
    }
   ],
   "source": [
    "for nombre, df in datasets.items():\n",
    "    print(f\"\\n{'='*40}\")\n",
    "    print(f\"Encabezados del dataset: {nombre}\")\n",
    "    print(f\"{'='*40}\\n\")\n",
    "    print(df.head())"
   ]
  },
  {
   "attachments": {},
   "cell_type": "markdown",
   "id": "7d1860af-d163-4d69-ba92-4d8da7e2a223",
   "metadata": {
    "jp-MarkdownHeadingCollapsed": true
   },
   "source": [
    "# 6. Missing data"
   ]
  },
  {
   "cell_type": "code",
   "execution_count": 7,
   "id": "e9045a0a-78eb-499e-b1b5-61e1cd1b38f5",
   "metadata": {},
   "outputs": [
    {
     "name": "stdout",
     "output_type": "stream",
     "text": [
      "\n",
      "========================================\n",
      "Cantidad de valores faltantes del dataset: nivel\n",
      "========================================\n",
      "\n",
      "fecha    1\n",
      "nivel    1\n",
      "dtype: int64\n",
      "\n",
      "========================================\n",
      "Cantidad de valores faltantes del dataset: sil\n",
      "========================================\n",
      "\n",
      "fecha    0\n",
      "sil      0\n",
      "dtype: int64\n",
      "\n",
      "========================================\n",
      "Cantidad de valores faltantes del dataset: snd\n",
      "========================================\n",
      "\n",
      "fecha    0\n",
      "snd      0\n",
      "dtype: int64\n",
      "\n",
      "========================================\n",
      "Cantidad de valores faltantes del dataset: aisp\n",
      "========================================\n",
      "\n",
      "fecha      0\n",
      "aisp     551\n",
      "dtype: int64\n"
     ]
    }
   ],
   "source": [
    "for nombre, df in datasets.items():\n",
    "    print(f\"\\n{'='*40}\")\n",
    "    print(f\"Cantidad de valores faltantes del dataset: {nombre}\")\n",
    "    print(f\"{'='*40}\\n\")\n",
    "    print(df.isnull().sum())"
   ]
  },
  {
   "cell_type": "markdown",
   "id": "a708db75-d2bd-407e-8c7a-239855ec7b2d",
   "metadata": {},
   "source": [
    "# 7. Save datasets"
   ]
  },
  {
   "cell_type": "code",
   "execution_count": 61,
   "id": "a1937127-b381-4901-bb5b-def10ab4cc0e",
   "metadata": {},
   "outputs": [],
   "source": [
    "ruta = \"/home/nivelrios/documentos/Mburicao Project/data/interim\"\n",
    "os.makedirs(ruta, exist_ok=True)\n",
    "for nombre, df in datasets.items():\n",
    "    archivo = os.path.join(ruta, f\"{nombre}.csv\")\n",
    "    df.to_csv(archivo, index=False)"
   ]
  },
  {
   "cell_type": "markdown",
   "id": "3f9e6653-a34f-4f93-8434-9099c61b8d3b",
   "metadata": {},
   "source": [
    "# **Notebook report**"
   ]
  },
  {
   "cell_type": "code",
   "execution_count": null,
   "id": "7f9b8a42-c0d4-47f5-a909-8f5a77bbd3e0",
   "metadata": {},
   "outputs": [],
   "source": []
  }
 ],
 "metadata": {
  "kernelspec": {
   "display_name": "Python 3 (ipykernel)",
   "language": "python",
   "name": "python3"
  },
  "language_info": {
   "codemirror_mode": {
    "name": "ipython",
    "version": 3
   },
   "file_extension": ".py",
   "mimetype": "text/x-python",
   "name": "python",
   "nbconvert_exporter": "python",
   "pygments_lexer": "ipython3",
   "version": "3.8.10"
  }
 },
 "nbformat": 4,
 "nbformat_minor": 5
}
