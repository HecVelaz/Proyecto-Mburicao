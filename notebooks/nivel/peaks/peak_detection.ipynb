{
 "cells": [
  {
   "cell_type": "markdown",
   "id": "a409c99f-5f54-4e55-8c3f-2d9d173c4b43",
   "metadata": {},
   "source": [
    "# 1. Libraries"
   ]
  },
  {
   "cell_type": "code",
   "execution_count": 55,
   "id": "271f2a10-3969-4aae-8407-5f4d18e9ed0e",
   "metadata": {},
   "outputs": [],
   "source": [
    "import numpy as np\n",
    "import pandas as pd\n",
    "import datetime\n",
    "import os\n",
    "from scipy.signal import find_peaks"
   ]
  },
  {
   "cell_type": "markdown",
   "id": "9f52880e-64f2-49b2-b467-70736c8dd5f6",
   "metadata": {},
   "source": [
    "# 2. Data load"
   ]
  },
  {
   "cell_type": "code",
   "execution_count": 56,
   "id": "c57677ab-981c-4dda-b061-312e9981aec0",
   "metadata": {},
   "outputs": [],
   "source": [
    "df_nivel = pd.read_csv('/home/nivelrios/documentos/Mburicao Project/data/processed/nivel_processed.csv')"
   ]
  },
  {
   "cell_type": "markdown",
   "id": "3dd96749-15d7-4949-b98a-3c19353aa2ef",
   "metadata": {},
   "source": [
    "# 3. Peak detection"
   ]
  },
  {
   "cell_type": "code",
   "execution_count": 57,
   "id": "f5082310-67e6-434e-8b3c-db2507d0eb4d",
   "metadata": {},
   "outputs": [],
   "source": [
    "df_nivel['fecha'] = pd.to_datetime(df_nivel['fecha'])\n",
    "\n",
    "UMBRAL = 0.3 \n",
    "\n",
    "fechas = df_nivel['fecha'].values\n",
    "niveles = df_nivel['nivel'].values\n",
    "\n",
    "indices_inicio = np.where((niveles[:-1] < threshold) & (niveles[1:] >= threshold))[0] + 1\n",
    "indices_fin = np.where((niveles[:-1] >= threshold) & (niveles[1:] < threshold))[0] + 1\n",
    "\n",
    "eventos = []\n",
    "for ini in indices_inicio:\n",
    "    fines_posteriores = indices_fin[indices_fin > ini]\n",
    "    if fines_posteriores.size > 0:\n",
    "        fin = fines_posteriores[0]\n",
    "        eventos.append((ini, fin))\n",
    "\n",
    "eventos_list = []\n",
    "\n",
    "for inicio, fin in eventos:\n",
    "    fecha_inicio = fechas[inicio]\n",
    "    fecha_fin = fechas[fin]\n",
    "    \n",
    "    duracion_evento = (fecha_fin - fecha_inicio) / np.timedelta64(1, 'm')\n",
    "    \n",
    "    segmento_niveles = niveles[inicio:fin]\n",
    "    segmento_fechas = fechas[inicio:fin]\n",
    "    \n",
    "    picos_rel, _ = find_peaks(segmento_niveles)\n",
    "    \n",
    "    if len(picos_rel) > 0:\n",
    "        idx_global_rel = np.argmax(segmento_niveles[picos_rel])\n",
    "        pico_global_rel = picos_rel[idx_global_rel]\n",
    "        \n",
    "        pico_global_valor = segmento_niveles[pico_global_rel]\n",
    "        pico_global_fecha = segmento_fechas[pico_global_rel]\n",
    "        \n",
    "        duracion_pico_global = (pico_global_fecha - fecha_inicio) / np.timedelta64(1, 'm')\n",
    "        \n",
    "        # ------------- PRIMER PICO LOCAL -------------#\n",
    "        # Condiciones:\n",
    "        # 1) Ocurra antes del pico global (fecha)\n",
    "        # 2) Su valor >= threshold + 0.4\n",
    "        # 3) Tomar el primero que cumpla estas condiciones\n",
    "        pico_local_valor = None\n",
    "        pico_local_fecha = None\n",
    "        duracion_pico_local = None\n",
    "        \n",
    "        picos_ordenados = sorted(picos_rel)\n",
    "        \n",
    "        for p_rel in picos_ordenados:\n",
    "            if p_rel < pico_global_rel:  \n",
    "                valor_pico_local = segmento_niveles[p_rel]\n",
    "                if valor_pico_local >= threshold + 0.4:\n",
    "                    fecha_pico_local = segmento_fechas[p_rel]\n",
    "                    pico_local_valor = valor_pico_local\n",
    "                    pico_local_fecha = fecha_pico_local\n",
    "                    duracion_pico_local = (pico_local_fecha - fecha_inicio) / np.timedelta64(1, 'm')\n",
    "                    break  \n",
    "        \n",
    "    else:\n",
    "        pico_global_valor = None\n",
    "        pico_global_fecha = None\n",
    "        duracion_pico_global = None\n",
    "        pico_local_valor = None\n",
    "        pico_local_fecha = None\n",
    "        duracion_pico_local = None\n",
    "    \n",
    "    evento_info = {\n",
    "        \"inicio\": fecha_inicio,\n",
    "        \"fin\": fecha_fin,\n",
    "        \"evento_duracion\": duracion_evento,\n",
    "        \"max_global\": pico_global_valor,\n",
    "        \"max_global_fecha\": pico_global_fecha,\n",
    "        \"max_global_duracion\": duracion_pico_global,\n",
    "        \"max_local\": pico_local_valor,\n",
    "        \"max_local_fecha\": pico_local_fecha,\n",
    "        \"max_local_duracion\": duracion_pico_local\n",
    "    } \n",
    "    eventos_list.append(evento_info)"
   ]
  },
  {
   "cell_type": "markdown",
   "id": "1907e38d-a7a1-40b0-8d1e-c52e22c5dee7",
   "metadata": {},
   "source": [
    "# 4. Save dataset"
   ]
  },
  {
   "cell_type": "code",
   "execution_count": 49,
   "id": "e2ea5b59-952e-4038-80bc-7a7ad1b46c45",
   "metadata": {},
   "outputs": [],
   "source": [
    "ruta = \"/home/nivelrios/documentos/Mburicao Project/data/external\"\n",
    "os.makedirs(ruta, exist_ok=True)\n",
    "archivo = os.path.join(ruta, \"peak_nivel_detection.csv\")\n",
    "df_eventos.to_csv(archivo, index=False)"
   ]
  }
 ],
 "metadata": {
  "kernelspec": {
   "display_name": "Python 3 (ipykernel)",
   "language": "python",
   "name": "python3"
  },
  "language_info": {
   "codemirror_mode": {
    "name": "ipython",
    "version": 3
   },
   "file_extension": ".py",
   "mimetype": "text/x-python",
   "name": "python",
   "nbconvert_exporter": "python",
   "pygments_lexer": "ipython3",
   "version": "3.8.10"
  }
 },
 "nbformat": 4,
 "nbformat_minor": 5
}
