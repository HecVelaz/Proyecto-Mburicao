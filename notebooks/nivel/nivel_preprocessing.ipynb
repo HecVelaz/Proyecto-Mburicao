{
 "cells": [
  {
   "cell_type": "markdown",
   "id": "fbc889a4-b77d-40ad-8fbf-f957fe0ddbd4",
   "metadata": {},
   "source": [
    "# 1. Libraries"
   ]
  },
  {
   "cell_type": "code",
   "execution_count": 1,
   "id": "bb5e93a5-529e-4988-8193-6532a291010f",
   "metadata": {},
   "outputs": [],
   "source": [
    "import numpy as np\n",
    "import pandas as pd\n",
    "from scipy.signal import find_peaks\n",
    "import os"
   ]
  },
  {
   "cell_type": "markdown",
   "id": "6f43fa4d-c59b-4086-999d-6eb7072a8f28",
   "metadata": {},
   "source": [
    "# 2. Load data"
   ]
  },
  {
   "cell_type": "code",
   "execution_count": 2,
   "id": "544841df-742e-4dd4-9c39-15574191594a",
   "metadata": {},
   "outputs": [],
   "source": [
    "df_nivel = pd.read_csv('/home/nivelrios/documentos/Mburicao Project/data/interim/nivel.csv')"
   ]
  },
  {
   "cell_type": "markdown",
   "id": "0d78bec2-d5dd-4eec-96da-b9e092842863",
   "metadata": {},
   "source": [
    "# 3. Processing"
   ]
  },
  {
   "cell_type": "code",
   "execution_count": 3,
   "id": "b19a9056-4294-4036-b75d-7e4c4630d5cc",
   "metadata": {},
   "outputs": [],
   "source": [
    "df_nivel_copy = df_nivel.copy()\n",
    "df_nivel_copy['fecha'] = pd.to_datetime(df_nivel_copy['fecha'], errors='coerce')\n",
    "df_nivel_copy['fecha'] = df_nivel_copy['fecha'].dt.round('S')\n",
    "df_nivel_copy['fecha'] = df_nivel_copy['fecha'].dt.round('T')\n",
    "df_nivel_copy['nivel'] = df_nivel_copy['nivel'].round(4)"
   ]
  },
  {
   "cell_type": "markdown",
   "id": "2c3e2299-67ce-4a84-b4f9-ed89eba80739",
   "metadata": {},
   "source": [
    "# 4. Save dataset"
   ]
  },
  {
   "cell_type": "code",
   "execution_count": 4,
   "id": "59d15552-b80c-4d23-8003-72884f07b48c",
   "metadata": {},
   "outputs": [],
   "source": [
    "ruta = \"/home/nivelrios/documentos/Mburicao Project/data/processed\"\n",
    "os.makedirs(ruta, exist_ok=True)\n",
    "archivo = os.path.join(ruta, \"nivel_processed.csv\")\n",
    "df_nivel_copy.to_csv(archivo, index=False)"
   ]
  },
  {
   "cell_type": "markdown",
   "id": "6ceefe7b-7024-4c36-8ba2-a8d4166cf7c2",
   "metadata": {},
   "source": [
    "# 5. Peak detection"
   ]
  },
  {
   "cell_type": "code",
   "execution_count": 74,
   "id": "d7ac8848-4ebe-4fad-a091-aa22f04ddcfe",
   "metadata": {},
   "outputs": [],
   "source": [
    "fechas = df_nivel_copy['fecha']\n",
    "y = df_nivel_copy['nivel'].values\n",
    "\n",
    "###################################################################\n",
    "#   Detección de inicio y fin de un evento dado un umbral 0.3     #\n",
    "###################################################################\n",
    "\n",
    "UMBRAL = 0.3\n",
    "indices_inicio = np.where((y[:-1] < UMBRAL) & (y[1:] >= UMBRAL))[0] + 1\n",
    "indices_fin = np.where((y[:-1] >= UMBRAL) & (y[1:] < UMBRAL))[0] + 1\n",
    "\n",
    "###################################################################\n",
    "#       Emparejar un inicio y con el primer inmediato fin         #\n",
    "###################################################################\n",
    "\n",
    "eventos = []\n",
    "for inicio in indices_inicio:\n",
    "    posibles_fines = indices_fin[indices_fin > inicio]\n",
    "    if posibles_fines.size > 0:\n",
    "        fin = posibles_fines[0]\n",
    "        eventos.append((inicio, fin))\n",
    "\n",
    "###################################################################\n",
    "#          Extracción de información de los eventos               #\n",
    "###################################################################\n",
    "\n",
    "eventos_list = []\n",
    "for inicio, fin in eventos:\n",
    "    segmento = y[inicio:fin]  # Extraemos la porción del evento\n",
    "    picos, _ = find_peaks(segmento)  # Detectamos picos locales en el segmento\n",
    "    duracion_evento = (fechas.iloc[fin] - fechas.iloc[inicio]).total_seconds() / 60.0 # Duración total del evento (en minutos)\n",
    "\n",
    "    \n",
    "    local_val = None\n",
    "    local_fecha = None\n",
    "    duracion_local = None\n",
    "    global_val = None\n",
    "    global_fecha = None\n",
    "    duracion_global = None\n",
    "\n",
    "    DIFERENCIA = 0.4 # Condición para pico local: debe tener (valor del pico - valor inicio) >= 0.4\n",
    "    if picos.size > 0:\n",
    "        pico_local_idx_global = None\n",
    "        for candidate in picos:\n",
    "            candidate_global_idx = inicio + candidate\n",
    "            if (y[candidate_global_idx] - y[inicio]) >= DIFERENCIA:\n",
    "                pico_local_idx_global = candidate_global_idx\n",
    "                break\n",
    "        \n",
    "        if pico_local_idx_global is not None:\n",
    "            local_val = y[pico_local_idx_global]\n",
    "            local_fecha = fechas.iloc[pico_local_idx_global]\n",
    "            duracion_local = (local_fecha - fechas.iloc[inicio]).total_seconds() / 60.0\n",
    "\n",
    "        pico_global_idx_segmento = picos[np.argmax(segmento[picos])] # Pico global: el pico con el valor máximo en el segmento (sin la restricción de 0.4)\n",
    "        pico_global_idx_global = inicio + pico_global_idx_segmento\n",
    "\n",
    "        global_val = y[pico_global_idx_global]\n",
    "        global_fecha = fechas.iloc[pico_global_idx_global]\n",
    "        duracion_global = (global_fecha - fechas.iloc[inicio]).total_seconds() / 60.0\n",
    "\n",
    "    evento_info = {\n",
    "        \"inicio\": fechas.iloc[inicio],\n",
    "        \"fin\": fechas.iloc[fin],\n",
    "        \"local\": local_val,\n",
    "        \"local_fecha\": local_fecha,\n",
    "        \"global\": global_val,\n",
    "        \"global_fecha\": global_fecha,\n",
    "        \"duracion_evento\": duracion_evento,\n",
    "        \"duracion_local\": duracion_local,\n",
    "        \"duracion_global\": duracion_global\n",
    "    }\n",
    "    eventos_list.append(evento_info)\n",
    "\n",
    "df_eventos = pd.DataFrame(eventos_list)"
   ]
  },
  {
   "cell_type": "markdown",
   "id": "bd74c98d-19ce-48ce-93b1-ab718df1d5c9",
   "metadata": {},
   "source": [
    "# 6. Save dataset"
   ]
  },
  {
   "cell_type": "code",
   "execution_count": 77,
   "id": "968dbf77-15b0-4573-bba7-a7748cd39e7d",
   "metadata": {},
   "outputs": [],
   "source": [
    "ruta = \"/home/nivelrios/documentos/Mburicao Project/data/external\"\n",
    "os.makedirs(ruta, exist_ok=True)\n",
    "archivo = os.path.join(ruta, \"peak_detection_info.csv\")\n",
    "df_eventos.to_csv(archivo, index=False)"
   ]
  }
 ],
 "metadata": {
  "kernelspec": {
   "display_name": "Python 3 (ipykernel)",
   "language": "python",
   "name": "python3"
  },
  "language_info": {
   "codemirror_mode": {
    "name": "ipython",
    "version": 3
   },
   "file_extension": ".py",
   "mimetype": "text/x-python",
   "name": "python",
   "nbconvert_exporter": "python",
   "pygments_lexer": "ipython3",
   "version": "3.8.10"
  }
 },
 "nbformat": 4,
 "nbformat_minor": 5
}
