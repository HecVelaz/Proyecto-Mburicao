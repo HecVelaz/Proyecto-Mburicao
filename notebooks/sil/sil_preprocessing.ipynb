{
 "cells": [
  {
   "cell_type": "markdown",
   "id": "6a91c1e0-91c4-48ff-a201-986b8979cdd6",
   "metadata": {},
   "source": [
    "# 1. Libraries"
   ]
  },
  {
   "cell_type": "code",
   "execution_count": 32,
   "id": "065c7edb-2092-4f45-b1d4-ae41f1328b05",
   "metadata": {},
   "outputs": [],
   "source": [
    "import numpy as np\n",
    "import pandas as pd\n",
    "import os"
   ]
  },
  {
   "cell_type": "markdown",
   "id": "3a9851da-e4a7-4315-8cd1-b4b6bca8d248",
   "metadata": {},
   "source": [
    "# 2. Load data"
   ]
  },
  {
   "cell_type": "code",
   "execution_count": 33,
   "id": "713bc135-e91d-42dc-9fb8-43d67ea6b8c5",
   "metadata": {},
   "outputs": [],
   "source": [
    "df_sil = pd.read_csv('/home/nivelrios/documentos/Mburicao Project/data/interim/sil.csv')"
   ]
  },
  {
   "cell_type": "markdown",
   "id": "333e72bb-b027-4e85-ba26-f4e2fd0f1858",
   "metadata": {},
   "source": [
    "# 3. Preprocessing"
   ]
  },
  {
   "cell_type": "code",
   "execution_count": 34,
   "id": "1aa9d67b-8f1f-4ecc-bbe9-d939383e2d64",
   "metadata": {},
   "outputs": [],
   "source": [
    "df_sil['fecha'] = df_sil['fecha'].str.replace(r'([+-]\\d{2}:\\d{2})$', '', regex=True)\n",
    "df_sil['fecha'] = pd.to_datetime(df_sil['fecha'], errors='coerce')\n",
    "\n",
    "# Establecer la columna 'fecha' como índice antes de redondear\n",
    "df_sil.set_index('fecha', inplace=True)\n",
    "\n",
    "# Ahora sí, redondear el índice al minuto más cercano\n",
    "df_sil.index = df_sil.index.ceil('10T')\n",
    "df_sil_copy = df_sil.copy()\n",
    "\n"
   ]
  },
  {
   "cell_type": "markdown",
   "id": "534dfe94-2f9a-4062-bcab-7fa398b04044",
   "metadata": {},
   "source": [
    "# 4. Save dataset"
   ]
  },
  {
   "cell_type": "code",
   "execution_count": 35,
   "id": "8f9c92fc-7c6f-45af-82d4-032f082dfd74",
   "metadata": {},
   "outputs": [],
   "source": [
    "ruta = \"/home/nivelrios/documentos/Mburicao Project/data/processed\"\n",
    "os.makedirs(ruta, exist_ok=True)\n",
    "archivo = os.path.join(ruta, \"sil_processed.csv\")\n",
    "df_sil_copy.to_csv(archivo, index=True)"
   ]
  },
  {
   "cell_type": "code",
   "execution_count": null,
   "id": "2425c1a5-fd3b-41d9-ad76-7db24a739269",
   "metadata": {},
   "outputs": [],
   "source": []
  }
 ],
 "metadata": {
  "kernelspec": {
   "display_name": "Python 3 (ipykernel)",
   "language": "python",
   "name": "python3"
  },
  "language_info": {
   "codemirror_mode": {
    "name": "ipython",
    "version": 3
   },
   "file_extension": ".py",
   "mimetype": "text/x-python",
   "name": "python",
   "nbconvert_exporter": "python",
   "pygments_lexer": "ipython3",
   "version": "3.8.10"
  }
 },
 "nbformat": 4,
 "nbformat_minor": 5
}
