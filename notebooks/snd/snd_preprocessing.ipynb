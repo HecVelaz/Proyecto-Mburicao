{
 "cells": [
  {
   "cell_type": "markdown",
   "id": "6a91c1e0-91c4-48ff-a201-986b8979cdd6",
   "metadata": {},
   "source": [
    "# 1. Libraries"
   ]
  },
  {
   "cell_type": "code",
   "execution_count": 2,
   "id": "065c7edb-2092-4f45-b1d4-ae41f1328b05",
   "metadata": {},
   "outputs": [],
   "source": [
    "import numpy as np\n",
    "import pandas as pd\n",
    "import os"
   ]
  },
  {
   "cell_type": "markdown",
   "id": "3a9851da-e4a7-4315-8cd1-b4b6bca8d248",
   "metadata": {},
   "source": [
    "# 2. Load data"
   ]
  },
  {
   "cell_type": "code",
   "execution_count": 3,
   "id": "713bc135-e91d-42dc-9fb8-43d67ea6b8c5",
   "metadata": {},
   "outputs": [],
   "source": [
    "df_snd = pd.read_csv('/home/nivelrios/documentos/Mburicao Project/data/interim/snd.csv')"
   ]
  },
  {
   "cell_type": "markdown",
   "id": "333e72bb-b027-4e85-ba26-f4e2fd0f1858",
   "metadata": {},
   "source": [
    "# 3. Preprocessing"
   ]
  },
  {
   "cell_type": "code",
   "execution_count": 5,
   "id": "1aa9d67b-8f1f-4ecc-bbe9-d939383e2d64",
   "metadata": {},
   "outputs": [],
   "source": [
    "df_snd_copy = df_snd.copy()\n",
    "df_snd_copy['fecha'] = pd.to_datetime(df_snd_copy['fecha'], errors='coerce')\n",
    "df_snd_copy.set_index('fecha', inplace=True)"
   ]
  },
  {
   "cell_type": "markdown",
   "id": "534dfe94-2f9a-4062-bcab-7fa398b04044",
   "metadata": {},
   "source": [
    "# 4. Save dataset"
   ]
  },
  {
   "cell_type": "code",
   "execution_count": 9,
   "id": "8f9c92fc-7c6f-45af-82d4-032f082dfd74",
   "metadata": {},
   "outputs": [],
   "source": [
    "ruta = \"/home/nivelrios/documentos/Mburicao Project/data/processed\"\n",
    "os.makedirs(ruta, exist_ok=True)\n",
    "archivo = os.path.join(ruta, \"snd_processed.csv\")\n",
    "df_snd_copy.to_csv(archivo, index=True)"
   ]
  }
 ],
 "metadata": {
  "kernelspec": {
   "display_name": "Python 3 (ipykernel)",
   "language": "python",
   "name": "python3"
  },
  "language_info": {
   "codemirror_mode": {
    "name": "ipython",
    "version": 3
   },
   "file_extension": ".py",
   "mimetype": "text/x-python",
   "name": "python",
   "nbconvert_exporter": "python",
   "pygments_lexer": "ipython3",
   "version": "3.8.10"
  }
 },
 "nbformat": 4,
 "nbformat_minor": 5
}
