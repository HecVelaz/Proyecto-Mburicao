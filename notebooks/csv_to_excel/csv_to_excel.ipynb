{
 "cells": [
  {
   "cell_type": "code",
   "execution_count": 9,
   "id": "bc5c88ec-749e-4f79-916f-458b790b3dec",
   "metadata": {},
   "outputs": [],
   "source": [
    "import pandas as pd"
   ]
  },
  {
   "cell_type": "code",
   "execution_count": 3,
   "id": "4b124926-fa77-4567-94f7-0992e67e7a74",
   "metadata": {},
   "outputs": [],
   "source": [
    "\n",
    "\n",
    "# Cargar el archivo CSV\n",
    "df = pd.read_csv('/home/nivelrios/documentos/Mburicao Project/src/evaluation/LR_best_features_r2.csv')\n",
    "\n",
    "# Guardar el DataFrame como un archivo Excel\n",
    "df.to_excel('/home/nivelrios/documentos/Mburicao Project/src/evaluation/excel/LR_best_features_r2_excel.xlsx', index=False)"
   ]
  },
  {
   "cell_type": "code",
   "execution_count": 10,
   "id": "ca0fecfa-9f09-488f-97cc-b5723f0c45c4",
   "metadata": {},
   "outputs": [],
   "source": [
    "\n",
    "\n",
    "# Cargar el archivo CSV\n",
    "df = pd.read_csv('/home/nivelrios/documentos/Mburicao Project/src/evaluation/SVM_best_features_fn_2.csv')\n",
    "\n",
    "# Guardar el DataFrame como un archivo Excel\n",
    "df.to_excel('/home/nivelrios/documentos/Mburicao Project/src/evaluation/excel/SVM_best_features_fn_excel_2.xlsx', index=False)"
   ]
  },
  {
   "cell_type": "code",
   "execution_count": null,
   "id": "338faf68-4089-4956-8643-3c1a45f15c02",
   "metadata": {},
   "outputs": [],
   "source": []
  }
 ],
 "metadata": {
  "kernelspec": {
   "display_name": "Python 3 (ipykernel)",
   "language": "python",
   "name": "python3"
  },
  "language_info": {
   "codemirror_mode": {
    "name": "ipython",
    "version": 3
   },
   "file_extension": ".py",
   "mimetype": "text/x-python",
   "name": "python",
   "nbconvert_exporter": "python",
   "pygments_lexer": "ipython3",
   "version": "3.8.10"
  }
 },
 "nbformat": 4,
 "nbformat_minor": 5
}
