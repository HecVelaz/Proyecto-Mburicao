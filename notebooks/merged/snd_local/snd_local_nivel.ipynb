{
 "cells": [
  {
   "cell_type": "markdown",
   "id": "8ea2cd7e-2cc8-4bac-bd8c-8e64053c7e19",
   "metadata": {
    "jp-MarkdownHeadingCollapsed": true
   },
   "source": [
    "# 1. Libraries"
   ]
  },
  {
   "cell_type": "code",
   "execution_count": 1,
   "id": "5fea20a3-455d-42fd-8779-211b3b32a507",
   "metadata": {},
   "outputs": [],
   "source": [
    "import pandas as pd\n",
    "import numpy as np\n",
    "import os"
   ]
  },
  {
   "cell_type": "markdown",
   "id": "896b3f91-daa4-4aec-9e82-9878f73d4b6c",
   "metadata": {},
   "source": [
    "# 2. Load data"
   ]
  },
  {
   "cell_type": "code",
   "execution_count": 2,
   "id": "1f9425b3-4014-47cc-bfda-2eb3c6850d08",
   "metadata": {},
   "outputs": [],
   "source": [
    "df_nivel = pd.read_csv('/home/nivelrios/documentos/Mburicao Project/data/processed/nivel_processed.csv', index_col=0, parse_dates=True)\n",
    "df_snd = pd.read_csv('/home/nivelrios/documentos/Mburicao Project/data/processed/snd_local_processed.csv', index_col=0, parse_dates=True)"
   ]
  },
  {
   "cell_type": "markdown",
   "id": "983db30c-c049-4f9b-ba42-ecfa43b6a4c5",
   "metadata": {},
   "source": [
    "# 3. Merge"
   ]
  },
  {
   "cell_type": "code",
   "execution_count": 3,
   "id": "12987427-7f0a-4b46-91c6-cd7949477ebc",
   "metadata": {},
   "outputs": [],
   "source": [
    "df_nivel_copy = df_nivel.copy()\n",
    "df_snd_copy = df_snd.copy()\n",
    "snd_nivel_merged = pd.merge(df_nivel_copy, df_snd_copy, left_index=True, right_index=True, how='inner')"
   ]
  },
  {
   "cell_type": "markdown",
   "id": "be706349-4dc4-4c5c-ad74-8124b529360f",
   "metadata": {},
   "source": [
    "# Save dataset"
   ]
  },
  {
   "cell_type": "code",
   "execution_count": 4,
   "id": "7d7ad37b-8f55-439d-b93c-b2fa52420c2e",
   "metadata": {},
   "outputs": [],
   "source": [
    "ruta = \"/home/nivelrios/documentos/Mburicao Project/data/external\"\n",
    "os.makedirs(ruta, exist_ok=True)\n",
    "archivo = os.path.join(ruta, \"snd_local_nivel_merged.csv\")\n",
    "snd_nivel_merged.to_csv(archivo, index=True)"
   ]
  },
  {
   "cell_type": "code",
   "execution_count": null,
   "id": "9a1fe302-b7d3-4b88-8688-62f1c6702ff0",
   "metadata": {},
   "outputs": [],
   "source": []
  }
 ],
 "metadata": {
  "kernelspec": {
   "display_name": "Python 3 (ipykernel)",
   "language": "python",
   "name": "python3"
  },
  "language_info": {
   "codemirror_mode": {
    "name": "ipython",
    "version": 3
   },
   "file_extension": ".py",
   "mimetype": "text/x-python",
   "name": "python",
   "nbconvert_exporter": "python",
   "pygments_lexer": "ipython3",
   "version": "3.8.10"
  }
 },
 "nbformat": 4,
 "nbformat_minor": 5
}
