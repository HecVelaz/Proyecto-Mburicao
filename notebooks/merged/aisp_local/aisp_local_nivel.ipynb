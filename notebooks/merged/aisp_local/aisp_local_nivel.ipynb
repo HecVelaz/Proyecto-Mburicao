{
 "cells": [
  {
   "cell_type": "markdown",
   "id": "0b87ad8f-c08e-4df0-9d01-da44ee0ae215",
   "metadata": {},
   "source": [
    "# 1. Libraries"
   ]
  },
  {
   "cell_type": "code",
   "execution_count": 21,
   "id": "11fb05a9-fb63-46d2-a7df-3f339ada8746",
   "metadata": {},
   "outputs": [],
   "source": [
    "import pandas as pd\n",
    "import numpy as np\n",
    "import os"
   ]
  },
  {
   "cell_type": "markdown",
   "id": "1ef82c7c-a69f-4124-9270-40bef1adf38e",
   "metadata": {},
   "source": [
    "# 2. Load data"
   ]
  },
  {
   "cell_type": "code",
   "execution_count": 22,
   "id": "264a4500-145b-4736-870a-c8bb1f597119",
   "metadata": {},
   "outputs": [],
   "source": [
    "df_nivel = pd.read_csv('/home/nivelrios/documentos/Mburicao Project/data/processed/nivel_processed.csv', index_col=0, parse_dates=True)\n",
    "df_aisp = pd.read_csv('/home/nivelrios/documentos/Mburicao Project/data/processed/aisp_local_processed.csv', index_col=0, parse_dates=True)"
   ]
  },
  {
   "cell_type": "markdown",
   "id": "4680fc98-6aa1-40a2-a553-9053525465c5",
   "metadata": {},
   "source": [
    "# 3. Merge"
   ]
  },
  {
   "cell_type": "code",
   "execution_count": 23,
   "id": "c5f51a3a-36c3-40fa-be43-70e7b85767db",
   "metadata": {},
   "outputs": [],
   "source": [
    "df_nivel_copy = df_nivel.copy()\n",
    "df_aisp_copy = df_aisp.copy()\n",
    "aisp_nivel_merged = pd.merge(df_nivel_copy, df_aisp_copy, left_index=True, right_index=True, how='inner')\n",
    "# Filtrar hasta la fecha específica\n",
    "#aisp_nivel_merged = aisp_nivel_merged.loc[:'2021-11-02 09:50:00']"
   ]
  },
  {
   "cell_type": "markdown",
   "id": "eaa9fce6-5f1b-421d-95d2-cd7d8157ef90",
   "metadata": {},
   "source": [
    "# Save dataset"
   ]
  },
  {
   "cell_type": "code",
   "execution_count": 24,
   "id": "77670448-79d5-46e9-8b0b-a8ab8fa2b035",
   "metadata": {},
   "outputs": [],
   "source": [
    "ruta = \"/home/nivelrios/documentos/Mburicao Project/data/external\"\n",
    "os.makedirs(ruta, exist_ok=True)\n",
    "archivo = os.path.join(ruta, \"aisp_local_nivel_merged.csv\")\n",
    "aisp_nivel_merged.to_csv(archivo, index=True)"
   ]
  },
  {
   "cell_type": "code",
   "execution_count": null,
   "id": "89854071-4bf2-459d-911f-721790e46ab9",
   "metadata": {},
   "outputs": [],
   "source": []
  }
 ],
 "metadata": {
  "kernelspec": {
   "display_name": "Python 3 (ipykernel)",
   "language": "python",
   "name": "python3"
  },
  "language_info": {
   "codemirror_mode": {
    "name": "ipython",
    "version": 3
   },
   "file_extension": ".py",
   "mimetype": "text/x-python",
   "name": "python",
   "nbconvert_exporter": "python",
   "pygments_lexer": "ipython3",
   "version": "3.8.10"
  }
 },
 "nbformat": 4,
 "nbformat_minor": 5
}
