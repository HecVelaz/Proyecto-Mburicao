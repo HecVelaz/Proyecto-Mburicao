{
 "cells": [
  {
   "cell_type": "markdown",
   "id": "0b87ad8f-c08e-4df0-9d01-da44ee0ae215",
   "metadata": {},
   "source": [
    "# 1. Libraries"
   ]
  },
  {
   "cell_type": "code",
   "execution_count": 1,
   "id": "11fb05a9-fb63-46d2-a7df-3f339ada8746",
   "metadata": {},
   "outputs": [],
   "source": [
    "import pandas as pd\n",
    "import numpy as np\n",
    "import os"
   ]
  },
  {
   "cell_type": "markdown",
   "id": "1ef82c7c-a69f-4124-9270-40bef1adf38e",
   "metadata": {},
   "source": [
    "# 2. Load data"
   ]
  },
  {
   "cell_type": "code",
   "execution_count": 2,
   "id": "264a4500-145b-4736-870a-c8bb1f597119",
   "metadata": {},
   "outputs": [],
   "source": [
    "df_nivel = pd.read_csv('/home/nivelrios/documentos/Mburicao Project/data/processed/nivel_processed.csv', index_col=0, parse_dates=True)\n",
    "df_sil = pd.read_csv('/home/nivelrios/documentos/Mburicao Project/data/processed/sil_processed.csv', index_col=0, parse_dates=True)\n",
    "df_snd = pd.read_csv('/home/nivelrios/documentos/Mburicao Project/data/processed/snd_local_processed.csv', index_col=0, parse_dates=True)\n",
    "df_aisp = pd.read_csv('/home/nivelrios/documentos/Mburicao Project/data/processed/aisp_local_processed.csv', index_col=0, parse_dates=True)"
   ]
  },
  {
   "cell_type": "markdown",
   "id": "4680fc98-6aa1-40a2-a553-9053525465c5",
   "metadata": {},
   "source": [
    "# 3. Merge"
   ]
  },
  {
   "cell_type": "code",
   "execution_count": 3,
   "id": "c5f51a3a-36c3-40fa-be43-70e7b85767db",
   "metadata": {},
   "outputs": [],
   "source": [
    "df_nivel_copy = df_nivel.copy()\n",
    "df_sil_copy = df_sil.copy()\n",
    "df_snd_copy = df_snd.copy()\n",
    "df_aisp_copy = df_aisp.copy()\n",
    "sil_snd_merged = pd.merge(df_sil_copy, df_snd_copy, left_index=True, right_index=True, how='inner')\n",
    "sil_snd_aisp_merged = pd.merge(sil_snd_merged, df_aisp_copy, left_index=True, right_index=True, how='inner')\n",
    "sil_snd_aisp_nivel_merged = pd.merge(df_nivel_copy, sil_snd_aisp_merged, left_index=True, right_index=True, how='inner')"
   ]
  },
  {
   "cell_type": "markdown",
   "id": "eaa9fce6-5f1b-421d-95d2-cd7d8157ef90",
   "metadata": {},
   "source": [
    "# Save dataset"
   ]
  },
  {
   "cell_type": "code",
   "execution_count": 4,
   "id": "77670448-79d5-46e9-8b0b-a8ab8fa2b035",
   "metadata": {},
   "outputs": [],
   "source": [
    "ruta = \"/home/nivelrios/documentos/Mburicao Project/data/external\"\n",
    "os.makedirs(ruta, exist_ok=True)\n",
    "archivo = os.path.join(ruta, \"sil_snd_aisp_local_nivel_merged.csv\")\n",
    "sil_snd_aisp_nivel_merged.to_csv(archivo, index=True)"
   ]
  },
  {
   "cell_type": "code",
   "execution_count": null,
   "id": "7e8eca3f-296f-4ffb-a8e9-436ca46950df",
   "metadata": {},
   "outputs": [],
   "source": []
  }
 ],
 "metadata": {
  "kernelspec": {
   "display_name": "Python 3 (ipykernel)",
   "language": "python",
   "name": "python3"
  },
  "language_info": {
   "codemirror_mode": {
    "name": "ipython",
    "version": 3
   },
   "file_extension": ".py",
   "mimetype": "text/x-python",
   "name": "python",
   "nbconvert_exporter": "python",
   "pygments_lexer": "ipython3",
   "version": "3.8.10"
  }
 },
 "nbformat": 4,
 "nbformat_minor": 5
}
