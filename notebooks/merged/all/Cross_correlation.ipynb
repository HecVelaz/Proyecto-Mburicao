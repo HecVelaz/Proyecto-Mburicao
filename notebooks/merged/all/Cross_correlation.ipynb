{
 "cells": [
  {
   "cell_type": "code",
   "execution_count": 6,
   "id": "70f1d377-51b8-42ae-90e6-86670c77d04e",
   "metadata": {},
   "outputs": [],
   "source": [
    "import numpy as np\n",
    "import pandas as pd\n",
    "from scipy.signal import correlate\n",
    "import plotly.graph_objects as go"
   ]
  },
  {
   "cell_type": "code",
   "execution_count": 7,
   "id": "e621ca37-e318-4d26-8878-6c6e721164e2",
   "metadata": {},
   "outputs": [],
   "source": [
    "merged1 = pd.read_csv('/home/nivelrios/documentos/Mburicao Project/data/external/aisp_local_nivel_merged.csv', index_col=0, parse_dates=True)\n",
    "merged2 = pd.read_csv('/home/nivelrios/documentos/Mburicao Project/data/external/snd_local_nivel_merged.csv', index_col=0, parse_dates=True)\n",
    "merged3 = pd.read_csv('/home/nivelrios/documentos/Mburicao Project/data/external/sil_nivel_merged.csv', index_col=0, parse_dates=True)"
   ]
  },
  {
   "cell_type": "code",
   "execution_count": 8,
   "id": "faa22fa4-756b-4e3c-8f85-9d205dea8a15",
   "metadata": {},
   "outputs": [],
   "source": [
    "merged1_copy = merged1.copy()\n",
    "merged1_copy['aisp_std'] = (merged1_copy['aisp'] - merged1_copy['aisp'].mean()) / merged1['aisp'].std()\n",
    "merged1_copy['nivel_std'] = (merged1_copy['nivel'] - merged1_copy['nivel'].mean()) / merged1['nivel'].std()\n",
    "merged1_real=merged1_copy[['aisp', 'nivel']]\n",
    "merged1_std=merged1_copy[['aisp_std', 'nivel_std']]\n",
    "\n",
    "merged2_copy = merged2.copy()\n",
    "merged2_copy['snd_std'] = (merged2_copy['snd'] - merged2_copy['snd'].mean()) / merged2['snd'].std()\n",
    "merged2_copy['nivel_std'] = (merged2_copy['nivel'] - merged2_copy['nivel'].mean()) / merged2['nivel'].std()\n",
    "merged2_real=merged2_copy[['snd', 'nivel']]\n",
    "merged2_std=merged2_copy[['snd_std', 'nivel_std']]\n",
    "\n",
    "merged3_copy = merged3.copy()\n",
    "merged3_copy['sil_std'] = (merged3_copy['sil'] - merged3_copy['sil'].mean()) / merged3['sil'].std()\n",
    "merged3_copy['nivel_std'] = (merged3_copy['nivel'] - merged3_copy['nivel'].mean()) / merged3['nivel'].std()\n",
    "merged3_real=merged3_copy[['sil', 'nivel']]\n",
    "merged3_std=merged3_copy[['sil_std', 'nivel_std']]"
   ]
  },
  {
   "cell_type": "code",
   "execution_count": 12,
   "id": "53de5e8e-19dd-4fe9-bb23-cfb5b2ffdc54",
   "metadata": {},
   "outputs": [
    {
     "data": {
      "application/vnd.plotly.v1+json": {
       "config": {
        "plotlyServerURL": "https://plot.ly"
       },
       "data": [
        {
         "line": {
          "color": "purple",
          "width": 4
         },
         "marker": {
          "color": "purple",
          "line": {
           "color": "black",
           "width": 1
          },
          "size": 8
         },
         "mode": "lines+markers",
         "name": "AISP vs Level",
         "type": "scatter",
         "x": [
          0,
          10,
          20,
          30,
          40,
          50,
          60,
          70,
          80
         ],
         "y": [
          0.1441489833788901,
          0.1471176468636463,
          0.1520656096473446,
          0.15908568033782594,
          0.16613229676223473,
          0.17517495406659475,
          0.19293821172423728,
          0.22316865964474908,
          0.253252392669358
         ]
        },
        {
         "marker": {
          "color": "purple",
          "line": {
           "color": "purple",
           "width": 3
          },
          "size": 16,
          "symbol": "circle-open"
         },
         "mode": "markers",
         "name": "Máx AISP (80 min)",
         "type": "scatter",
         "x": [
          80
         ],
         "y": [
          0.253252392669358
         ]
        },
        {
         "line": {
          "color": "forestgreen",
          "width": 4
         },
         "marker": {
          "color": "forestgreen",
          "line": {
           "color": "black",
           "width": 1
          },
          "size": 8
         },
         "mode": "lines+markers",
         "name": "SND vs Level",
         "type": "scatter",
         "x": [
          0,
          10,
          20,
          30,
          40,
          50,
          60,
          70,
          80
         ],
         "y": [
          0.2709195970397328,
          0.3070670534690514,
          0.35663026501394174,
          0.43720166714369074,
          0.5174329621668471,
          0.5204875526856502,
          0.49894347027567676,
          0.4745115869459566,
          0.4683852742731304
         ]
        },
        {
         "marker": {
          "color": "forestgreen",
          "line": {
           "color": "forestgreen",
           "width": 3
          },
          "size": 16,
          "symbol": "circle-open"
         },
         "mode": "markers",
         "name": "Máx SND (50 min)",
         "type": "scatter",
         "x": [
          50
         ],
         "y": [
          0.5204875526856502
         ]
        },
        {
         "line": {
          "color": "orange",
          "width": 4
         },
         "marker": {
          "color": "orange",
          "line": {
           "color": "black",
           "width": 1
          },
          "size": 8
         },
         "mode": "lines+markers",
         "name": "SIL vs Level",
         "type": "scatter",
         "x": [
          0,
          10,
          20,
          30,
          40,
          50,
          60,
          70,
          80
         ],
         "y": [
          0.2544733173528835,
          0.3480586880286976,
          0.46413341959668586,
          0.5656736776931675,
          0.6282526349079414,
          0.6384409075231741,
          0.5996626717970192,
          0.5308124482750243,
          0.4596394664068821
         ]
        },
        {
         "marker": {
          "color": "orange",
          "line": {
           "color": "orange",
           "width": 3
          },
          "size": 16,
          "symbol": "circle-open"
         },
         "mode": "markers",
         "name": "Máx SIL (50 min)",
         "type": "scatter",
         "x": [
          50
         ],
         "y": [
          0.6384409075231741
         ]
        }
       ],
       "layout": {
        "font": {
         "family": "Arial",
         "size": 24
        },
        "height": 900,
        "legend": {
         "bgcolor": "rgba(255, 255, 255, 0.9)",
         "bordercolor": "rgba(0, 0, 0, 0.1)",
         "borderwidth": 1,
         "font": {
          "color": "black",
          "family": "Arial",
          "size": 22
         },
         "itemsizing": "constant",
         "itemwidth": 30,
         "traceorder": "normal",
         "x": 0.01,
         "xanchor": "left",
         "y": 0.99,
         "yanchor": "top"
        },
        "paper_bgcolor": "white",
        "plot_bgcolor": "white",
        "template": {
         "data": {
          "bar": [
           {
            "error_x": {
             "color": "#2a3f5f"
            },
            "error_y": {
             "color": "#2a3f5f"
            },
            "marker": {
             "line": {
              "color": "#E5ECF6",
              "width": 0.5
             },
             "pattern": {
              "fillmode": "overlay",
              "size": 10,
              "solidity": 0.2
             }
            },
            "type": "bar"
           }
          ],
          "barpolar": [
           {
            "marker": {
             "line": {
              "color": "#E5ECF6",
              "width": 0.5
             },
             "pattern": {
              "fillmode": "overlay",
              "size": 10,
              "solidity": 0.2
             }
            },
            "type": "barpolar"
           }
          ],
          "carpet": [
           {
            "aaxis": {
             "endlinecolor": "#2a3f5f",
             "gridcolor": "white",
             "linecolor": "white",
             "minorgridcolor": "white",
             "startlinecolor": "#2a3f5f"
            },
            "baxis": {
             "endlinecolor": "#2a3f5f",
             "gridcolor": "white",
             "linecolor": "white",
             "minorgridcolor": "white",
             "startlinecolor": "#2a3f5f"
            },
            "type": "carpet"
           }
          ],
          "choropleth": [
           {
            "colorbar": {
             "outlinewidth": 0,
             "ticks": ""
            },
            "type": "choropleth"
           }
          ],
          "contour": [
           {
            "colorbar": {
             "outlinewidth": 0,
             "ticks": ""
            },
            "colorscale": [
             [
              0,
              "#0d0887"
             ],
             [
              0.1111111111111111,
              "#46039f"
             ],
             [
              0.2222222222222222,
              "#7201a8"
             ],
             [
              0.3333333333333333,
              "#9c179e"
             ],
             [
              0.4444444444444444,
              "#bd3786"
             ],
             [
              0.5555555555555556,
              "#d8576b"
             ],
             [
              0.6666666666666666,
              "#ed7953"
             ],
             [
              0.7777777777777778,
              "#fb9f3a"
             ],
             [
              0.8888888888888888,
              "#fdca26"
             ],
             [
              1,
              "#f0f921"
             ]
            ],
            "type": "contour"
           }
          ],
          "contourcarpet": [
           {
            "colorbar": {
             "outlinewidth": 0,
             "ticks": ""
            },
            "type": "contourcarpet"
           }
          ],
          "heatmap": [
           {
            "colorbar": {
             "outlinewidth": 0,
             "ticks": ""
            },
            "colorscale": [
             [
              0,
              "#0d0887"
             ],
             [
              0.1111111111111111,
              "#46039f"
             ],
             [
              0.2222222222222222,
              "#7201a8"
             ],
             [
              0.3333333333333333,
              "#9c179e"
             ],
             [
              0.4444444444444444,
              "#bd3786"
             ],
             [
              0.5555555555555556,
              "#d8576b"
             ],
             [
              0.6666666666666666,
              "#ed7953"
             ],
             [
              0.7777777777777778,
              "#fb9f3a"
             ],
             [
              0.8888888888888888,
              "#fdca26"
             ],
             [
              1,
              "#f0f921"
             ]
            ],
            "type": "heatmap"
           }
          ],
          "heatmapgl": [
           {
            "colorbar": {
             "outlinewidth": 0,
             "ticks": ""
            },
            "colorscale": [
             [
              0,
              "#0d0887"
             ],
             [
              0.1111111111111111,
              "#46039f"
             ],
             [
              0.2222222222222222,
              "#7201a8"
             ],
             [
              0.3333333333333333,
              "#9c179e"
             ],
             [
              0.4444444444444444,
              "#bd3786"
             ],
             [
              0.5555555555555556,
              "#d8576b"
             ],
             [
              0.6666666666666666,
              "#ed7953"
             ],
             [
              0.7777777777777778,
              "#fb9f3a"
             ],
             [
              0.8888888888888888,
              "#fdca26"
             ],
             [
              1,
              "#f0f921"
             ]
            ],
            "type": "heatmapgl"
           }
          ],
          "histogram": [
           {
            "marker": {
             "pattern": {
              "fillmode": "overlay",
              "size": 10,
              "solidity": 0.2
             }
            },
            "type": "histogram"
           }
          ],
          "histogram2d": [
           {
            "colorbar": {
             "outlinewidth": 0,
             "ticks": ""
            },
            "colorscale": [
             [
              0,
              "#0d0887"
             ],
             [
              0.1111111111111111,
              "#46039f"
             ],
             [
              0.2222222222222222,
              "#7201a8"
             ],
             [
              0.3333333333333333,
              "#9c179e"
             ],
             [
              0.4444444444444444,
              "#bd3786"
             ],
             [
              0.5555555555555556,
              "#d8576b"
             ],
             [
              0.6666666666666666,
              "#ed7953"
             ],
             [
              0.7777777777777778,
              "#fb9f3a"
             ],
             [
              0.8888888888888888,
              "#fdca26"
             ],
             [
              1,
              "#f0f921"
             ]
            ],
            "type": "histogram2d"
           }
          ],
          "histogram2dcontour": [
           {
            "colorbar": {
             "outlinewidth": 0,
             "ticks": ""
            },
            "colorscale": [
             [
              0,
              "#0d0887"
             ],
             [
              0.1111111111111111,
              "#46039f"
             ],
             [
              0.2222222222222222,
              "#7201a8"
             ],
             [
              0.3333333333333333,
              "#9c179e"
             ],
             [
              0.4444444444444444,
              "#bd3786"
             ],
             [
              0.5555555555555556,
              "#d8576b"
             ],
             [
              0.6666666666666666,
              "#ed7953"
             ],
             [
              0.7777777777777778,
              "#fb9f3a"
             ],
             [
              0.8888888888888888,
              "#fdca26"
             ],
             [
              1,
              "#f0f921"
             ]
            ],
            "type": "histogram2dcontour"
           }
          ],
          "mesh3d": [
           {
            "colorbar": {
             "outlinewidth": 0,
             "ticks": ""
            },
            "type": "mesh3d"
           }
          ],
          "parcoords": [
           {
            "line": {
             "colorbar": {
              "outlinewidth": 0,
              "ticks": ""
             }
            },
            "type": "parcoords"
           }
          ],
          "pie": [
           {
            "automargin": true,
            "type": "pie"
           }
          ],
          "scatter": [
           {
            "fillpattern": {
             "fillmode": "overlay",
             "size": 10,
             "solidity": 0.2
            },
            "type": "scatter"
           }
          ],
          "scatter3d": [
           {
            "line": {
             "colorbar": {
              "outlinewidth": 0,
              "ticks": ""
             }
            },
            "marker": {
             "colorbar": {
              "outlinewidth": 0,
              "ticks": ""
             }
            },
            "type": "scatter3d"
           }
          ],
          "scattercarpet": [
           {
            "marker": {
             "colorbar": {
              "outlinewidth": 0,
              "ticks": ""
             }
            },
            "type": "scattercarpet"
           }
          ],
          "scattergeo": [
           {
            "marker": {
             "colorbar": {
              "outlinewidth": 0,
              "ticks": ""
             }
            },
            "type": "scattergeo"
           }
          ],
          "scattergl": [
           {
            "marker": {
             "colorbar": {
              "outlinewidth": 0,
              "ticks": ""
             }
            },
            "type": "scattergl"
           }
          ],
          "scattermapbox": [
           {
            "marker": {
             "colorbar": {
              "outlinewidth": 0,
              "ticks": ""
             }
            },
            "type": "scattermapbox"
           }
          ],
          "scatterpolar": [
           {
            "marker": {
             "colorbar": {
              "outlinewidth": 0,
              "ticks": ""
             }
            },
            "type": "scatterpolar"
           }
          ],
          "scatterpolargl": [
           {
            "marker": {
             "colorbar": {
              "outlinewidth": 0,
              "ticks": ""
             }
            },
            "type": "scatterpolargl"
           }
          ],
          "scatterternary": [
           {
            "marker": {
             "colorbar": {
              "outlinewidth": 0,
              "ticks": ""
             }
            },
            "type": "scatterternary"
           }
          ],
          "surface": [
           {
            "colorbar": {
             "outlinewidth": 0,
             "ticks": ""
            },
            "colorscale": [
             [
              0,
              "#0d0887"
             ],
             [
              0.1111111111111111,
              "#46039f"
             ],
             [
              0.2222222222222222,
              "#7201a8"
             ],
             [
              0.3333333333333333,
              "#9c179e"
             ],
             [
              0.4444444444444444,
              "#bd3786"
             ],
             [
              0.5555555555555556,
              "#d8576b"
             ],
             [
              0.6666666666666666,
              "#ed7953"
             ],
             [
              0.7777777777777778,
              "#fb9f3a"
             ],
             [
              0.8888888888888888,
              "#fdca26"
             ],
             [
              1,
              "#f0f921"
             ]
            ],
            "type": "surface"
           }
          ],
          "table": [
           {
            "cells": {
             "fill": {
              "color": "#EBF0F8"
             },
             "line": {
              "color": "white"
             }
            },
            "header": {
             "fill": {
              "color": "#C8D4E3"
             },
             "line": {
              "color": "white"
             }
            },
            "type": "table"
           }
          ]
         },
         "layout": {
          "annotationdefaults": {
           "arrowcolor": "#2a3f5f",
           "arrowhead": 0,
           "arrowwidth": 1
          },
          "autotypenumbers": "strict",
          "coloraxis": {
           "colorbar": {
            "outlinewidth": 0,
            "ticks": ""
           }
          },
          "colorscale": {
           "diverging": [
            [
             0,
             "#8e0152"
            ],
            [
             0.1,
             "#c51b7d"
            ],
            [
             0.2,
             "#de77ae"
            ],
            [
             0.3,
             "#f1b6da"
            ],
            [
             0.4,
             "#fde0ef"
            ],
            [
             0.5,
             "#f7f7f7"
            ],
            [
             0.6,
             "#e6f5d0"
            ],
            [
             0.7,
             "#b8e186"
            ],
            [
             0.8,
             "#7fbc41"
            ],
            [
             0.9,
             "#4d9221"
            ],
            [
             1,
             "#276419"
            ]
           ],
           "sequential": [
            [
             0,
             "#0d0887"
            ],
            [
             0.1111111111111111,
             "#46039f"
            ],
            [
             0.2222222222222222,
             "#7201a8"
            ],
            [
             0.3333333333333333,
             "#9c179e"
            ],
            [
             0.4444444444444444,
             "#bd3786"
            ],
            [
             0.5555555555555556,
             "#d8576b"
            ],
            [
             0.6666666666666666,
             "#ed7953"
            ],
            [
             0.7777777777777778,
             "#fb9f3a"
            ],
            [
             0.8888888888888888,
             "#fdca26"
            ],
            [
             1,
             "#f0f921"
            ]
           ],
           "sequentialminus": [
            [
             0,
             "#0d0887"
            ],
            [
             0.1111111111111111,
             "#46039f"
            ],
            [
             0.2222222222222222,
             "#7201a8"
            ],
            [
             0.3333333333333333,
             "#9c179e"
            ],
            [
             0.4444444444444444,
             "#bd3786"
            ],
            [
             0.5555555555555556,
             "#d8576b"
            ],
            [
             0.6666666666666666,
             "#ed7953"
            ],
            [
             0.7777777777777778,
             "#fb9f3a"
            ],
            [
             0.8888888888888888,
             "#fdca26"
            ],
            [
             1,
             "#f0f921"
            ]
           ]
          },
          "colorway": [
           "#636efa",
           "#EF553B",
           "#00cc96",
           "#ab63fa",
           "#FFA15A",
           "#19d3f3",
           "#FF6692",
           "#B6E880",
           "#FF97FF",
           "#FECB52"
          ],
          "font": {
           "color": "#2a3f5f"
          },
          "geo": {
           "bgcolor": "white",
           "lakecolor": "white",
           "landcolor": "#E5ECF6",
           "showlakes": true,
           "showland": true,
           "subunitcolor": "white"
          },
          "hoverlabel": {
           "align": "left"
          },
          "hovermode": "closest",
          "mapbox": {
           "style": "light"
          },
          "paper_bgcolor": "white",
          "plot_bgcolor": "#E5ECF6",
          "polar": {
           "angularaxis": {
            "gridcolor": "white",
            "linecolor": "white",
            "ticks": ""
           },
           "bgcolor": "#E5ECF6",
           "radialaxis": {
            "gridcolor": "white",
            "linecolor": "white",
            "ticks": ""
           }
          },
          "scene": {
           "xaxis": {
            "backgroundcolor": "#E5ECF6",
            "gridcolor": "white",
            "gridwidth": 2,
            "linecolor": "white",
            "showbackground": true,
            "ticks": "",
            "zerolinecolor": "white"
           },
           "yaxis": {
            "backgroundcolor": "#E5ECF6",
            "gridcolor": "white",
            "gridwidth": 2,
            "linecolor": "white",
            "showbackground": true,
            "ticks": "",
            "zerolinecolor": "white"
           },
           "zaxis": {
            "backgroundcolor": "#E5ECF6",
            "gridcolor": "white",
            "gridwidth": 2,
            "linecolor": "white",
            "showbackground": true,
            "ticks": "",
            "zerolinecolor": "white"
           }
          },
          "shapedefaults": {
           "line": {
            "color": "#2a3f5f"
           }
          },
          "ternary": {
           "aaxis": {
            "gridcolor": "white",
            "linecolor": "white",
            "ticks": ""
           },
           "baxis": {
            "gridcolor": "white",
            "linecolor": "white",
            "ticks": ""
           },
           "bgcolor": "#E5ECF6",
           "caxis": {
            "gridcolor": "white",
            "linecolor": "white",
            "ticks": ""
           }
          },
          "title": {
           "x": 0.05
          },
          "xaxis": {
           "automargin": true,
           "gridcolor": "white",
           "linecolor": "white",
           "ticks": "",
           "title": {
            "standoff": 15
           },
           "zerolinecolor": "white",
           "zerolinewidth": 2
          },
          "yaxis": {
           "automargin": true,
           "gridcolor": "white",
           "linecolor": "white",
           "ticks": "",
           "title": {
            "standoff": 15
           },
           "zerolinecolor": "white",
           "zerolinewidth": 2
          }
         }
        },
        "width": 900,
        "xaxis": {
         "autorange": true,
         "gridcolor": "lightgray",
         "linecolor": "lightgray",
         "linewidth": 1,
         "mirror": true,
         "range": [
          -5.1713395638629285,
          85.79439252336448
         ],
         "showline": true,
         "tickfont": {
          "color": "black",
          "family": "Arial",
          "size": 24
         },
         "title": {
          "font": {
           "color": "black",
           "family": "Arial",
           "size": 34
          },
          "text": "Delay (min)"
         },
         "type": "linear"
        },
        "yaxis": {
         "autorange": true,
         "gridcolor": "lightgray",
         "linecolor": "lightgray",
         "linewidth": 1,
         "mirror": true,
         "range": [
          0.11210062075537447,
          0.6744215845790229
         ],
         "showline": true,
         "tickfont": {
          "color": "black",
          "family": "Arial",
          "size": 24
         },
         "title": {
          "font": {
           "color": "black",
           "family": "Arial",
           "size": 34
          },
          "text": "Correlation"
         },
         "type": "linear"
        }
       }
      },
      "image/png": "[encoded data removed]",
      "text/html": [
       "<div>                            <div id=\"a797ea53-6ad8-4e8a-b9e9-070a4060d8e9\" class=\"plotly-graph-div\" style=\"height:900px; width:900px;\"></div>            <script type=\"text/javascript\">                require([\"plotly\"], function(Plotly) {                    window.PLOTLYENV=window.PLOTLYENV || {};                                    if (document.getElementById(\"a797ea53-6ad8-4e8a-b9e9-070a4060d8e9\")) {                    Plotly.newPlot(                        \"a797ea53-6ad8-4e8a-b9e9-070a4060d8e9\",                        [{\"line\":{\"color\":\"purple\",\"width\":4},\"marker\":{\"color\":\"purple\",\"line\":{\"color\":\"black\",\"width\":1},\"size\":8},\"mode\":\"lines+markers\",\"name\":\"AISP vs Level\",\"x\":[0,10,20,30,40,50,60,70,80],\"y\":[0.1441489833788901,0.1471176468636463,0.1520656096473446,0.15908568033782594,0.16613229676223473,0.17517495406659475,0.19293821172423728,0.22316865964474908,0.253252392669358],\"type\":\"scatter\"},{\"marker\":{\"color\":\"purple\",\"line\":{\"color\":\"purple\",\"width\":3},\"size\":16,\"symbol\":\"circle-open\"},\"mode\":\"markers\",\"name\":\"M\\u00e1x AISP (80 min)\",\"x\":[80],\"y\":[0.253252392669358],\"type\":\"scatter\"},{\"line\":{\"color\":\"forestgreen\",\"width\":4},\"marker\":{\"color\":\"forestgreen\",\"line\":{\"color\":\"black\",\"width\":1},\"size\":8},\"mode\":\"lines+markers\",\"name\":\"SND vs Level\",\"x\":[0,10,20,30,40,50,60,70,80],\"y\":[0.2709195970397328,0.3070670534690514,0.35663026501394174,0.43720166714369074,0.5174329621668471,0.5204875526856502,0.49894347027567676,0.4745115869459566,0.4683852742731304],\"type\":\"scatter\"},{\"marker\":{\"color\":\"forestgreen\",\"line\":{\"color\":\"forestgreen\",\"width\":3},\"size\":16,\"symbol\":\"circle-open\"},\"mode\":\"markers\",\"name\":\"M\\u00e1x SND (50 min)\",\"x\":[50],\"y\":[0.5204875526856502],\"type\":\"scatter\"},{\"line\":{\"color\":\"orange\",\"width\":4},\"marker\":{\"color\":\"orange\",\"line\":{\"color\":\"black\",\"width\":1},\"size\":8},\"mode\":\"lines+markers\",\"name\":\"SIL vs Level\",\"x\":[0,10,20,30,40,50,60,70,80],\"y\":[0.2544733173528835,0.3480586880286976,0.46413341959668586,0.5656736776931675,0.6282526349079414,0.6384409075231741,0.5996626717970192,0.5308124482750243,0.4596394664068821],\"type\":\"scatter\"},{\"marker\":{\"color\":\"orange\",\"line\":{\"color\":\"orange\",\"width\":3},\"size\":16,\"symbol\":\"circle-open\"},\"mode\":\"markers\",\"name\":\"M\\u00e1x SIL (50 min)\",\"x\":[50],\"y\":[0.6384409075231741],\"type\":\"scatter\"}],                        {\"template\":{\"data\":{\"histogram2dcontour\":[{\"type\":\"histogram2dcontour\",\"colorbar\":{\"outlinewidth\":0,\"ticks\":\"\"},\"colorscale\":[[0.0,\"#0d0887\"],[0.1111111111111111,\"#46039f\"],[0.2222222222222222,\"#7201a8\"],[0.3333333333333333,\"#9c179e\"],[0.4444444444444444,\"#bd3786\"],[0.5555555555555556,\"#d8576b\"],[0.6666666666666666,\"#ed7953\"],[0.7777777777777778,\"#fb9f3a\"],[0.8888888888888888,\"#fdca26\"],[1.0,\"#f0f921\"]]}],\"choropleth\":[{\"type\":\"choropleth\",\"colorbar\":{\"outlinewidth\":0,\"ticks\":\"\"}}],\"histogram2d\":[{\"type\":\"histogram2d\",\"colorbar\":{\"outlinewidth\":0,\"ticks\":\"\"},\"colorscale\":[[0.0,\"#0d0887\"],[0.1111111111111111,\"#46039f\"],[0.2222222222222222,\"#7201a8\"],[0.3333333333333333,\"#9c179e\"],[0.4444444444444444,\"#bd3786\"],[0.5555555555555556,\"#d8576b\"],[0.6666666666666666,\"#ed7953\"],[0.7777777777777778,\"#fb9f3a\"],[0.8888888888888888,\"#fdca26\"],[1.0,\"#f0f921\"]]}],\"heatmap\":[{\"type\":\"heatmap\",\"colorbar\":{\"outlinewidth\":0,\"ticks\":\"\"},\"colorscale\":[[0.0,\"#0d0887\"],[0.1111111111111111,\"#46039f\"],[0.2222222222222222,\"#7201a8\"],[0.3333333333333333,\"#9c179e\"],[0.4444444444444444,\"#bd3786\"],[0.5555555555555556,\"#d8576b\"],[0.6666666666666666,\"#ed7953\"],[0.7777777777777778,\"#fb9f3a\"],[0.8888888888888888,\"#fdca26\"],[1.0,\"#f0f921\"]]}],\"heatmapgl\":[{\"type\":\"heatmapgl\",\"colorbar\":{\"outlinewidth\":0,\"ticks\":\"\"},\"colorscale\":[[0.0,\"#0d0887\"],[0.1111111111111111,\"#46039f\"],[0.2222222222222222,\"#7201a8\"],[0.3333333333333333,\"#9c179e\"],[0.4444444444444444,\"#bd3786\"],[0.5555555555555556,\"#d8576b\"],[0.6666666666666666,\"#ed7953\"],[0.7777777777777778,\"#fb9f3a\"],[0.8888888888888888,\"#fdca26\"],[1.0,\"#f0f921\"]]}],\"contourcarpet\":[{\"type\":\"contourcarpet\",\"colorbar\":{\"outlinewidth\":0,\"ticks\":\"\"}}],\"contour\":[{\"type\":\"contour\",\"colorbar\":{\"outlinewidth\":0,\"ticks\":\"\"},\"colorscale\":[[0.0,\"#0d0887\"],[0.1111111111111111,\"#46039f\"],[0.2222222222222222,\"#7201a8\"],[0.3333333333333333,\"#9c179e\"],[0.4444444444444444,\"#bd3786\"],[0.5555555555555556,\"#d8576b\"],[0.6666666666666666,\"#ed7953\"],[0.7777777777777778,\"#fb9f3a\"],[0.8888888888888888,\"#fdca26\"],[1.0,\"#f0f921\"]]}],\"surface\":[{\"type\":\"surface\",\"colorbar\":{\"outlinewidth\":0,\"ticks\":\"\"},\"colorscale\":[[0.0,\"#0d0887\"],[0.1111111111111111,\"#46039f\"],[0.2222222222222222,\"#7201a8\"],[0.3333333333333333,\"#9c179e\"],[0.4444444444444444,\"#bd3786\"],[0.5555555555555556,\"#d8576b\"],[0.6666666666666666,\"#ed7953\"],[0.7777777777777778,\"#fb9f3a\"],[0.8888888888888888,\"#fdca26\"],[1.0,\"#f0f921\"]]}],\"mesh3d\":[{\"type\":\"mesh3d\",\"colorbar\":{\"outlinewidth\":0,\"ticks\":\"\"}}],\"scatter\":[{\"fillpattern\":{\"fillmode\":\"overlay\",\"size\":10,\"solidity\":0.2},\"type\":\"scatter\"}],\"parcoords\":[{\"type\":\"parcoords\",\"line\":{\"colorbar\":{\"outlinewidth\":0,\"ticks\":\"\"}}}],\"scatterpolargl\":[{\"type\":\"scatterpolargl\",\"marker\":{\"colorbar\":{\"outlinewidth\":0,\"ticks\":\"\"}}}],\"bar\":[{\"error_x\":{\"color\":\"#2a3f5f\"},\"error_y\":{\"color\":\"#2a3f5f\"},\"marker\":{\"line\":{\"color\":\"#E5ECF6\",\"width\":0.5},\"pattern\":{\"fillmode\":\"overlay\",\"size\":10,\"solidity\":0.2}},\"type\":\"bar\"}],\"scattergeo\":[{\"type\":\"scattergeo\",\"marker\":{\"colorbar\":{\"outlinewidth\":0,\"ticks\":\"\"}}}],\"scatterpolar\":[{\"type\":\"scatterpolar\",\"marker\":{\"colorbar\":{\"outlinewidth\":0,\"ticks\":\"\"}}}],\"histogram\":[{\"marker\":{\"pattern\":{\"fillmode\":\"overlay\",\"size\":10,\"solidity\":0.2}},\"type\":\"histogram\"}],\"scattergl\":[{\"type\":\"scattergl\",\"marker\":{\"colorbar\":{\"outlinewidth\":0,\"ticks\":\"\"}}}],\"scatter3d\":[{\"type\":\"scatter3d\",\"line\":{\"colorbar\":{\"outlinewidth\":0,\"ticks\":\"\"}},\"marker\":{\"colorbar\":{\"outlinewidth\":0,\"ticks\":\"\"}}}],\"scattermapbox\":[{\"type\":\"scattermapbox\",\"marker\":{\"colorbar\":{\"outlinewidth\":0,\"ticks\":\"\"}}}],\"scatterternary\":[{\"type\":\"scatterternary\",\"marker\":{\"colorbar\":{\"outlinewidth\":0,\"ticks\":\"\"}}}],\"scattercarpet\":[{\"type\":\"scattercarpet\",\"marker\":{\"colorbar\":{\"outlinewidth\":0,\"ticks\":\"\"}}}],\"carpet\":[{\"aaxis\":{\"endlinecolor\":\"#2a3f5f\",\"gridcolor\":\"white\",\"linecolor\":\"white\",\"minorgridcolor\":\"white\",\"startlinecolor\":\"#2a3f5f\"},\"baxis\":{\"endlinecolor\":\"#2a3f5f\",\"gridcolor\":\"white\",\"linecolor\":\"white\",\"minorgridcolor\":\"white\",\"startlinecolor\":\"#2a3f5f\"},\"type\":\"carpet\"}],\"table\":[{\"cells\":{\"fill\":{\"color\":\"#EBF0F8\"},\"line\":{\"color\":\"white\"}},\"header\":{\"fill\":{\"color\":\"#C8D4E3\"},\"line\":{\"color\":\"white\"}},\"type\":\"table\"}],\"barpolar\":[{\"marker\":{\"line\":{\"color\":\"#E5ECF6\",\"width\":0.5},\"pattern\":{\"fillmode\":\"overlay\",\"size\":10,\"solidity\":0.2}},\"type\":\"barpolar\"}],\"pie\":[{\"automargin\":true,\"type\":\"pie\"}]},\"layout\":{\"autotypenumbers\":\"strict\",\"colorway\":[\"#636efa\",\"#EF553B\",\"#00cc96\",\"#ab63fa\",\"#FFA15A\",\"#19d3f3\",\"#FF6692\",\"#B6E880\",\"#FF97FF\",\"#FECB52\"],\"font\":{\"color\":\"#2a3f5f\"},\"hovermode\":\"closest\",\"hoverlabel\":{\"align\":\"left\"},\"paper_bgcolor\":\"white\",\"plot_bgcolor\":\"#E5ECF6\",\"polar\":{\"bgcolor\":\"#E5ECF6\",\"angularaxis\":{\"gridcolor\":\"white\",\"linecolor\":\"white\",\"ticks\":\"\"},\"radialaxis\":{\"gridcolor\":\"white\",\"linecolor\":\"white\",\"ticks\":\"\"}},\"ternary\":{\"bgcolor\":\"#E5ECF6\",\"aaxis\":{\"gridcolor\":\"white\",\"linecolor\":\"white\",\"ticks\":\"\"},\"baxis\":{\"gridcolor\":\"white\",\"linecolor\":\"white\",\"ticks\":\"\"},\"caxis\":{\"gridcolor\":\"white\",\"linecolor\":\"white\",\"ticks\":\"\"}},\"coloraxis\":{\"colorbar\":{\"outlinewidth\":0,\"ticks\":\"\"}},\"colorscale\":{\"sequential\":[[0.0,\"#0d0887\"],[0.1111111111111111,\"#46039f\"],[0.2222222222222222,\"#7201a8\"],[0.3333333333333333,\"#9c179e\"],[0.4444444444444444,\"#bd3786\"],[0.5555555555555556,\"#d8576b\"],[0.6666666666666666,\"#ed7953\"],[0.7777777777777778,\"#fb9f3a\"],[0.8888888888888888,\"#fdca26\"],[1.0,\"#f0f921\"]],\"sequentialminus\":[[0.0,\"#0d0887\"],[0.1111111111111111,\"#46039f\"],[0.2222222222222222,\"#7201a8\"],[0.3333333333333333,\"#9c179e\"],[0.4444444444444444,\"#bd3786\"],[0.5555555555555556,\"#d8576b\"],[0.6666666666666666,\"#ed7953\"],[0.7777777777777778,\"#fb9f3a\"],[0.8888888888888888,\"#fdca26\"],[1.0,\"#f0f921\"]],\"diverging\":[[0,\"#8e0152\"],[0.1,\"#c51b7d\"],[0.2,\"#de77ae\"],[0.3,\"#f1b6da\"],[0.4,\"#fde0ef\"],[0.5,\"#f7f7f7\"],[0.6,\"#e6f5d0\"],[0.7,\"#b8e186\"],[0.8,\"#7fbc41\"],[0.9,\"#4d9221\"],[1,\"#276419\"]]},\"xaxis\":{\"gridcolor\":\"white\",\"linecolor\":\"white\",\"ticks\":\"\",\"title\":{\"standoff\":15},\"zerolinecolor\":\"white\",\"automargin\":true,\"zerolinewidth\":2},\"yaxis\":{\"gridcolor\":\"white\",\"linecolor\":\"white\",\"ticks\":\"\",\"title\":{\"standoff\":15},\"zerolinecolor\":\"white\",\"automargin\":true,\"zerolinewidth\":2},\"scene\":{\"xaxis\":{\"backgroundcolor\":\"#E5ECF6\",\"gridcolor\":\"white\",\"linecolor\":\"white\",\"showbackground\":true,\"ticks\":\"\",\"zerolinecolor\":\"white\",\"gridwidth\":2},\"yaxis\":{\"backgroundcolor\":\"#E5ECF6\",\"gridcolor\":\"white\",\"linecolor\":\"white\",\"showbackground\":true,\"ticks\":\"\",\"zerolinecolor\":\"white\",\"gridwidth\":2},\"zaxis\":{\"backgroundcolor\":\"#E5ECF6\",\"gridcolor\":\"white\",\"linecolor\":\"white\",\"showbackground\":true,\"ticks\":\"\",\"zerolinecolor\":\"white\",\"gridwidth\":2}},\"shapedefaults\":{\"line\":{\"color\":\"#2a3f5f\"}},\"annotationdefaults\":{\"arrowcolor\":\"#2a3f5f\",\"arrowhead\":0,\"arrowwidth\":1},\"geo\":{\"bgcolor\":\"white\",\"landcolor\":\"#E5ECF6\",\"subunitcolor\":\"white\",\"showland\":true,\"showlakes\":true,\"lakecolor\":\"white\"},\"title\":{\"x\":0.05},\"mapbox\":{\"style\":\"light\"}}},\"font\":{\"family\":\"Arial\",\"size\":24},\"legend\":{\"font\":{\"size\":22,\"color\":\"black\",\"family\":\"Arial\"},\"x\":0.01,\"y\":0.99,\"xanchor\":\"left\",\"yanchor\":\"top\",\"bgcolor\":\"rgba(255, 255, 255, 0.9)\",\"bordercolor\":\"rgba(0, 0, 0, 0.1)\",\"borderwidth\":1,\"itemsizing\":\"constant\",\"itemwidth\":30,\"traceorder\":\"normal\"},\"xaxis\":{\"title\":{\"text\":\"Delay (min)\",\"font\":{\"size\":34,\"color\":\"black\",\"family\":\"Arial\"}},\"tickfont\":{\"size\":24,\"color\":\"black\",\"family\":\"Arial\"},\"showline\":true,\"linewidth\":1,\"linecolor\":\"lightgray\",\"mirror\":true,\"gridcolor\":\"lightgray\"},\"yaxis\":{\"title\":{\"text\":\"Correlation\",\"font\":{\"size\":34,\"color\":\"black\",\"family\":\"Arial\"}},\"tickfont\":{\"size\":24,\"color\":\"black\",\"family\":\"Arial\"},\"showline\":true,\"linewidth\":1,\"linecolor\":\"lightgray\",\"mirror\":true,\"gridcolor\":\"lightgray\"},\"plot_bgcolor\":\"white\",\"paper_bgcolor\":\"white\",\"width\":900,\"height\":900},                        {\"responsive\": true}                    ).then(function(){\n",
       "                            \n",
       "var gd = document.getElementById('a797ea53-6ad8-4e8a-b9e9-070a4060d8e9');\n",
       "var x = new MutationObserver(function (mutations, observer) {{\n",
       "        var display = window.getComputedStyle(gd).display;\n",
       "        if (!display || display === 'none') {{\n",
       "            console.log([gd, 'removed!']);\n",
       "            Plotly.purge(gd);\n",
       "            observer.disconnect();\n",
       "        }}\n",
       "}});\n",
       "\n",
       "// Listen for the removal of the full notebook cells\n",
       "var notebookContainer = gd.closest('#notebook-container');\n",
       "if (notebookContainer) {{\n",
       "    x.observe(notebookContainer, {childList: true});\n",
       "}}\n",
       "\n",
       "// Listen for the clearing of the current output cell\n",
       "var outputEl = gd.closest('.output');\n",
       "if (outputEl) {{\n",
       "    x.observe(outputEl, {childList: true});\n",
       "}}\n",
       "\n",
       "                        })                };                });            </script>        </div>"
      ]
     },
     "metadata": {},
     "output_type": "display_data"
    }
   ],
   "source": [
    "def cross_correlation(x, y, lag_step=10, min_delay=0, max_delay=80):\n",
    "    corr = correlate(x, y, mode='full')\n",
    "    lags = np.arange(-len(x) + 1, len(x))\n",
    "    norm_factor = np.array([len(x) - abs(lag) for lag in lags])\n",
    "    corr_norm = corr / norm_factor\n",
    "    lags_minutes = lags * lag_step\n",
    "\n",
    "    mask = (lags_minutes >= min_delay) & (lags_minutes <= max_delay)\n",
    "    lags_minutes_filtered = lags_minutes[mask]\n",
    "    corr_norm_filtered = corr_norm[mask]\n",
    "\n",
    "    best_idx = np.argmax(np.abs(corr_norm_filtered))\n",
    "    best_lag = lags_minutes_filtered[best_idx]\n",
    "    best_corr = corr_norm_filtered[best_idx]\n",
    "\n",
    "    return lags_minutes_filtered, corr_norm_filtered, best_lag, best_corr\n",
    "\n",
    "# Extraer las señales\n",
    "nivel1 = merged1_std['nivel_std'].values\n",
    "aisp = merged1_std['aisp_std'].values\n",
    "nivel2 = merged2_std['nivel_std'].values\n",
    "snd = merged2_std['snd_std'].values\n",
    "nivel3 = merged3_std['nivel_std'].values\n",
    "sil = merged3_std['sil_std'].values\n",
    "\n",
    "# Calcular las correlaciones\n",
    "lags_aisp, corr_aisp, lag_aisp, corr_max_aisp = cross_correlation(nivel1, aisp)\n",
    "lags_snd, corr_snd, lag_snd, corr_max_snd = cross_correlation(nivel2, snd)\n",
    "lags_sil, corr_sil, lag_sil, corr_max_sil = cross_correlation(nivel3, sil)\n",
    "\n",
    "# Crear la figura\n",
    "fig = go.Figure()\n",
    "\n",
    "fig.add_trace(go.Scatter(x=lags_aisp, y=corr_aisp, mode='lines+markers', name='AISP vs Level',marker=dict(size=8, color='purple', line=dict(width=1, color='black')), line=dict(width=4, color='purple')))\n",
    "fig.add_trace(go.Scatter(\n",
    "    x=[lag_aisp], y=[corr_max_aisp],\n",
    "    mode='markers',\n",
    "    name=f'Máx AISP ({lag_aisp} min)',\n",
    "     marker=dict(\n",
    "        size=16,\n",
    "        color='purple',\n",
    "        symbol='circle-open',\n",
    "        line=dict(color='purple', width=3)\n",
    "    \n",
    "    )\n",
    "))\n",
    "\n",
    "fig.add_trace(go.Scatter(x=lags_snd, y=corr_snd, mode='lines+markers', name='SND vs Level', marker=dict(size=8, color='forestgreen', line=dict(width=1, color='black')), line=dict(width=4, color='forestgreen')))\n",
    "fig.add_trace(go.Scatter(\n",
    "    x=[lag_snd], y=[corr_max_snd],\n",
    "    mode='markers',\n",
    "    name=f'Máx SND ({lag_snd} min)',\n",
    "    marker=dict(\n",
    "        size=16,\n",
    "        color='forestgreen',\n",
    "        symbol='circle-open',\n",
    "        line=dict(color='forestgreen', width=3)\n",
    "    )\n",
    "))\n",
    "\n",
    "fig.add_trace(go.Scatter(x=lags_sil, y=corr_sil, mode='lines+markers', name='SIL vs Level',marker=dict(size=8, color='orange', line=dict(width=1, color='black')), line=dict(width=4, color='orange')))\n",
    "fig.add_trace(go.Scatter(\n",
    "    x=[lag_sil], y=[corr_max_sil],\n",
    "    mode='markers',\n",
    "    name=f'Máx SIL ({lag_sil} min)',\n",
    "    marker=dict(\n",
    "        size=16,\n",
    "        color='orange',\n",
    "        symbol='circle-open',\n",
    "        line=dict(color='orange', width=3)\n",
    "    )\n",
    "))\n",
    "\n",
    "\n",
    "fig.update_layout(\n",
    "    xaxis_title=\"Delay (min)\",\n",
    "    yaxis_title=\"Correlation\",\n",
    "    plot_bgcolor='white',\n",
    "    paper_bgcolor='white',\n",
    "    font=dict(family=\"Arial\", size=24),  # Fuente global Arial\n",
    "    width=900,\n",
    "    height=900,\n",
    "    \n",
    "    \n",
    "    \n",
    "    legend=dict(\n",
    "       # title='Stations',\n",
    "        font=dict(size=22, color='black', family=\"Arial\"),\n",
    "        x=0.01,\n",
    "        y=0.99,\n",
    "        xanchor='left',\n",
    "        yanchor='top',\n",
    "        bgcolor='rgba(255, 255, 255, 0.9)',  # Fondo gris translúcido (ajusta el alpha)\n",
    "        bordercolor='rgba(0, 0, 0, 0.1)',    # Borde semi-transparente\n",
    "        borderwidth=1,\n",
    "        itemsizing='constant',\n",
    "        itemwidth=30,\n",
    "        traceorder='normal',\n",
    "    ),\n",
    "    # Ejes con fuente Arial y bordes\n",
    "    xaxis=dict(\n",
    "        title_font=dict(size=34, color='black', family=\"Arial\"),\n",
    "        tickfont=dict(size=24, color='black', family=\"Arial\"),\n",
    "        showline=True,\n",
    "        linewidth=1,\n",
    "        linecolor='lightgray',\n",
    "        mirror=True,\n",
    "        gridcolor='lightgray'\n",
    "    ),\n",
    "    yaxis=dict(\n",
    "        title_font=dict(size=34, color='black', family=\"Arial\"),\n",
    "        tickfont=dict(size=24, color='black', family=\"Arial\"),\n",
    "        showline=True,\n",
    "        linewidth=1,\n",
    "        linecolor='lightgray',\n",
    "        mirror=True,\n",
    "        gridcolor='lightgray'\n",
    "    )\n",
    ")\n",
    "\n",
    "fig.show()"
   ]
  },
  {
   "cell_type": "code",
   "execution_count": null,
   "id": "4e7747be-c6d8-4890-9f44-1e4e5aecc915",
   "metadata": {},
   "outputs": [],
   "source": []
  }
 ],
 "metadata": {
  "kernelspec": {
   "display_name": "Python 3 (ipykernel)",
   "language": "python",
   "name": "python3"
  },
  "language_info": {
   "codemirror_mode": {
    "name": "ipython",
    "version": 3
   },
   "file_extension": ".py",
   "mimetype": "text/x-python",
   "name": "python",
   "nbconvert_exporter": "python",
   "pygments_lexer": "ipython3",
   "version": "3.8.10"
  }
 },
 "nbformat": 4,
 "nbformat_minor": 5
}
