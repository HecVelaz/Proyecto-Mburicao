{
 "cells": [
  {
   "cell_type": "markdown",
   "id": "61e05111-f8bf-462d-8b6b-34b6f9e946ba",
   "metadata": {},
   "source": [
    "# 1. Libraries"
   ]
  },
  {
   "cell_type": "code",
   "execution_count": 1,
   "id": "b43dfca2-6ef0-4dc1-b281-112af15ab425",
   "metadata": {},
   "outputs": [],
   "source": [
    "import numpy as np\n",
    "import pandas as pd\n",
    "import os"
   ]
  },
  {
   "cell_type": "markdown",
   "id": "77ae4736-5035-433d-8942-28b5298783b6",
   "metadata": {},
   "source": [
    "# 2. Load data"
   ]
  },
  {
   "cell_type": "code",
   "execution_count": 2,
   "id": "812a2335-6829-48af-af40-c3aba58146f0",
   "metadata": {},
   "outputs": [],
   "source": [
    "df_aisp = pd.read_csv('/home/nivelrios/documentos/Mburicao Project/data/interim/aisp.csv')"
   ]
  },
  {
   "cell_type": "markdown",
   "id": "34701914-4806-4fa2-b14a-098389f27260",
   "metadata": {},
   "source": [
    "# 3. Preprocessing"
   ]
  },
  {
   "cell_type": "code",
   "execution_count": 5,
   "id": "b205145b-20ac-4860-88a8-fcf66220d704",
   "metadata": {},
   "outputs": [],
   "source": [
    "df_aisp_copy = df_aisp.copy()\n",
    "df_aisp['fecha'] = pd.to_datetime(df_aisp['fecha'], errors='coerce')\n",
    "df_aisp_copy.set_index('fecha', inplace=True)"
   ]
  },
  {
   "cell_type": "markdown",
   "id": "322424e1-a0a4-45e4-a615-2d16a3f6e988",
   "metadata": {},
   "source": [
    "# 4. Save dataset"
   ]
  },
  {
   "cell_type": "code",
   "execution_count": 6,
   "id": "14ad75f1-15bd-4fa0-a5f6-efa06d333daa",
   "metadata": {},
   "outputs": [],
   "source": [
    "ruta = \"/home/nivelrios/documentos/Mburicao Project/data/processed\"\n",
    "os.makedirs(ruta, exist_ok=True)\n",
    "archivo = os.path.join(ruta, \"aisp_processed.csv\")\n",
    "df_aisp_copy.to_csv(archivo, index=True)"
   ]
  }
 ],
 "metadata": {
  "kernelspec": {
   "display_name": "Python 3 (ipykernel)",
   "language": "python",
   "name": "python3"
  },
  "language_info": {
   "codemirror_mode": {
    "name": "ipython",
    "version": 3
   },
   "file_extension": ".py",
   "mimetype": "text/x-python",
   "name": "python",
   "nbconvert_exporter": "python",
   "pygments_lexer": "ipython3",
   "version": "3.8.10"
  }
 },
 "nbformat": 4,
 "nbformat_minor": 5
}
