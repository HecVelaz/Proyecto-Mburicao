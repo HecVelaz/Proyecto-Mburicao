{
 "cells": [
  {
   "cell_type": "markdown",
   "id": "3803a4c8-6fa8-4001-ad1f-c3f124a0056d",
   "metadata": {
    "jp-MarkdownHeadingCollapsed": true
   },
   "source": [
    "# 1. Libraries"
   ]
  },
  {
   "cell_type": "code",
   "execution_count": 30,
   "id": "be73562e-8454-4ff1-a3e3-282c624ef39f",
   "metadata": {},
   "outputs": [],
   "source": [
    "import pandas as pd\n",
    "import numpy as np\n",
    "import os"
   ]
  },
  {
   "cell_type": "markdown",
   "id": "cdd96e45-b4a2-4a37-abfe-c8fdc02c7688",
   "metadata": {
    "jp-MarkdownHeadingCollapsed": true
   },
   "source": [
    "# 2. Load data"
   ]
  },
  {
   "cell_type": "code",
   "execution_count": 31,
   "id": "2632a74b-e6dd-4cbc-9adb-5aa5bdc93f98",
   "metadata": {},
   "outputs": [],
   "source": [
    "df_aisp = pd.read_csv('/home/nivelrios/documentos/Mburicao Project/data/interim/aisp.csv')"
   ]
  },
  {
   "cell_type": "markdown",
   "id": "ae1308cc-85b8-4765-8f57-8c0ba36176ba",
   "metadata": {
    "jp-MarkdownHeadingCollapsed": true
   },
   "source": [
    "# 3. Preprocessing"
   ]
  },
  {
   "cell_type": "code",
   "execution_count": 32,
   "id": "0de1b1c7-80b4-4bb4-a7ad-55101e68383f",
   "metadata": {},
   "outputs": [],
   "source": [
    "df_aisp_copy = df_aisp.copy()\n",
    "df_aisp_copy['fecha'] = pd.to_datetime(df_aisp_copy['fecha'], errors='coerce')\n",
    "\n"
   ]
  },
  {
   "cell_type": "code",
   "execution_count": 33,
   "id": "35791f89-7fce-46fe-8bff-d4dae9ea2275",
   "metadata": {},
   "outputs": [
    {
     "data": {
      "text/html": [
       "<div>\n",
       "<style scoped>\n",
       "    .dataframe tbody tr th:only-of-type {\n",
       "        vertical-align: middle;\n",
       "    }\n",
       "\n",
       "    .dataframe tbody tr th {\n",
       "        vertical-align: top;\n",
       "    }\n",
       "\n",
       "    .dataframe thead th {\n",
       "        text-align: right;\n",
       "    }\n",
       "</style>\n",
       "<table border=\"1\" class=\"dataframe\">\n",
       "  <thead>\n",
       "    <tr style=\"text-align: right;\">\n",
       "      <th></th>\n",
       "      <th>aisp</th>\n",
       "    </tr>\n",
       "    <tr>\n",
       "      <th>fecha</th>\n",
       "      <th></th>\n",
       "    </tr>\n",
       "  </thead>\n",
       "  <tbody>\n",
       "    <tr>\n",
       "      <th>2014-12-31 21:00:00</th>\n",
       "      <td>0.0</td>\n",
       "    </tr>\n",
       "    <tr>\n",
       "      <th>2014-12-31 21:10:00</th>\n",
       "      <td>0.0</td>\n",
       "    </tr>\n",
       "    <tr>\n",
       "      <th>2014-12-31 21:20:00</th>\n",
       "      <td>0.0</td>\n",
       "    </tr>\n",
       "    <tr>\n",
       "      <th>2014-12-31 21:30:00</th>\n",
       "      <td>0.0</td>\n",
       "    </tr>\n",
       "    <tr>\n",
       "      <th>2014-12-31 21:40:00</th>\n",
       "      <td>0.0</td>\n",
       "    </tr>\n",
       "  </tbody>\n",
       "</table>\n",
       "</div>"
      ],
      "text/plain": [
       "                     aisp\n",
       "fecha                    \n",
       "2014-12-31 21:00:00   0.0\n",
       "2014-12-31 21:10:00   0.0\n",
       "2014-12-31 21:20:00   0.0\n",
       "2014-12-31 21:30:00   0.0\n",
       "2014-12-31 21:40:00   0.0"
      ]
     },
     "execution_count": 33,
     "metadata": {},
     "output_type": "execute_result"
    }
   ],
   "source": [
    "df_aisp_copy[\"fecha\"] = df_aisp_copy[\"fecha\"].dt.tz_localize(\"UTC\")\n",
    "df_aisp_copy[\"fecha\"] = df_aisp_copy[\"fecha\"].dt.tz_convert(\"America/Asuncion\")\n",
    "df_aisp_copy[\"fecha\"] = pd.to_datetime(df_aisp_copy[\"fecha\"])\n",
    "df_aisp_copy[\"fecha\"] = df_aisp_copy[\"fecha\"].dt.strftime('%Y-%m-%d %H:%M:%S')\n",
    "df_aisp_copy= df_aisp_copy.set_index(\"fecha\")\n",
    "df_aisp_copy.head()"
   ]
  },
  {
   "cell_type": "markdown",
   "id": "7641f701-9f7c-4dfa-a76b-869ee0ec704c",
   "metadata": {
    "jp-MarkdownHeadingCollapsed": true
   },
   "source": [
    "# 4. Save dataset"
   ]
  },
  {
   "cell_type": "code",
   "execution_count": 35,
   "id": "f3b0d4e1-4d1d-43bf-9553-3cd01a2a6301",
   "metadata": {},
   "outputs": [],
   "source": [
    "ruta = \"/home/nivelrios/documentos/Mburicao Project/data/processed\"\n",
    "os.makedirs(ruta, exist_ok=True)\n",
    "archivo = os.path.join(ruta, \"aisp_local_processed.csv\")\n",
    "df_aisp_copy.to_csv(archivo, index=True)"
   ]
  },
  {
   "cell_type": "code",
   "execution_count": null,
   "id": "71259d60-e3b3-437d-9092-54d450d7643c",
   "metadata": {},
   "outputs": [],
   "source": []
  }
 ],
 "metadata": {
  "kernelspec": {
   "display_name": "Python 3 (ipykernel)",
   "language": "python",
   "name": "python3"
  },
  "language_info": {
   "codemirror_mode": {
    "name": "ipython",
    "version": 3
   },
   "file_extension": ".py",
   "mimetype": "text/x-python",
   "name": "python",
   "nbconvert_exporter": "python",
   "pygments_lexer": "ipython3",
   "version": "3.8.10"
  }
 },
 "nbformat": 4,
 "nbformat_minor": 5
}
